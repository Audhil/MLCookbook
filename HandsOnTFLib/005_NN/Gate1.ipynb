{
 "cells": [
  {
   "cell_type": "code",
   "execution_count": 31,
   "metadata": {
    "collapsed": true
   },
   "outputs": [],
   "source": [
    "\"\"\"Gate,\n",
    "Src code : \n",
    "https://github.com/Audhil/tensorflow_cookbook/blob/master/06_Neural_Networks/02_Implementing_an_Operational_Gate/02_gates.ipynb\"\"\"\n",
    "# f(x) = x * a\n",
    "import tensorflow as tf"
   ]
  },
  {
   "cell_type": "code",
   "execution_count": 32,
   "metadata": {},
   "outputs": [
    {
     "name": "stdout",
     "output_type": "stream",
     "text": [
      "7.5 *  5.0 = 37.5\n8.75 *  5.0 = 43.75\n9.375 *  5.0 = 46.875\n9.6875 *  5.0 = 48.4375\n9.84375 *  5.0 = 49.2188\n9.92188 *  5.0 = 49.6094\n9.96094 *  5.0 = 49.8047\n9.98047 *  5.0 = 49.9023\n9.99023 *  5.0 = 49.9512\n9.99512 *  5.0 = 49.9756\nA U D H I L\n"
     ]
    }
   ],
   "source": [
    "Y_target = 50.\n",
    "x_val = 5.\n",
    "learning_rate = .01\n",
    "epochs = 10\n",
    "\n",
    "x_place_holder = tf.placeholder(dtype=tf.float32)\n",
    "\n",
    "# initializing a random value\n",
    "A = tf.Variable(tf.constant(5.))\n",
    "\n",
    "# f(x) = x * a\n",
    "multi_model = tf.multiply(x_place_holder, A)\n",
    "\n",
    "# loss\n",
    "loss = tf.square(tf.subtract(multi_model, Y_target))\n",
    "\n",
    "# optimizer\n",
    "optimizer = tf.train.GradientDescentOptimizer(learning_rate).minimize(loss)\n",
    "\n",
    "# var inits\n",
    "init = tf.global_variables_initializer()\n",
    "\n",
    "with tf.Session() as sess:\n",
    "    sess.run(init)\n",
    "    for i in range(epochs):\n",
    "        sess.run(optimizer, feed_dict={x_place_holder: x_val})\n",
    "        print(str(sess.run(A)) + ' * ',\n",
    "              str(x_val) + ' = ' + str(sess.run(multi_model, feed_dict={x_place_holder: x_val})))\n",
    "        \n",
    "strr = 'jack and jill'\n",
    "print(' '.join('AUDHIL'))\n"
   ]
  }
 ],
 "metadata": {
  "kernelspec": {
   "display_name": "Python 2",
   "language": "python",
   "name": "python2"
  },
  "language_info": {
   "codemirror_mode": {
    "name": "ipython",
    "version": 2
   },
   "file_extension": ".py",
   "mimetype": "text/x-python",
   "name": "python",
   "nbconvert_exporter": "python",
   "pygments_lexer": "ipython2",
   "version": "2.7.6"
  }
 },
 "nbformat": 4,
 "nbformat_minor": 0
}
