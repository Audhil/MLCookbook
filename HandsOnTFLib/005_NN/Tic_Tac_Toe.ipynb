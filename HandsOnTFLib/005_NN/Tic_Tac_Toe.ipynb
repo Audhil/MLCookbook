{
 "cells": [
  {
   "cell_type": "code",
   "execution_count": 1,
   "metadata": {
    "collapsed": true
   },
   "outputs": [],
   "source": [
    "\"\"\"Making the TicTacToe model - which plays against the human\"\"\"\n",
    "# src code : \n",
    "# https://github.com/Audhil/tensorflow_cookbook/blob/master/06_Neural_Networks/08_Learning_Tic_Tac_Toe/tic_tac_toe_moves.py\n",
    "\n",
    "import tensorflow as tf\n",
    "import numpy as np\n",
    "import csv\n",
    "\n",
    "\n",
    "# X = 1\n",
    "# O = -1\n",
    "# empty = 0\n",
    "# response on 1-9 grid for placement of next '1'\n",
    "\n",
    "\n",
    "# For example, the 'test_board' is:\n",
    "#\n",
    "#   O  |  -  |  -\n",
    "# -----------------\n",
    "#   X  |  O  |  O\n",
    "# -----------------\n",
    "#   -  |  -  |  X\n",
    "#\n",
    "# board above = [-1, 0, 0, 1, -1, -1, 0, 0, 1]\n",
    "# Optimal response would be position 6, where\n",
    "# the position numbers are:\n",
    "#\n",
    "#   0  |  1  |  2\n",
    "# -----------------\n",
    "#   3  |  4  |  5\n",
    "# -----------------\n",
    "#   6  |  7  |  8\n",
    "\n",
    "# print_board(): takes a board vector and shows it as a tic-tac-toe board.\n",
    "# get_symmetry(): takes a board, \n",
    "# the preferred response index, and a transformation. \n",
    "# It then applies the transformation to the board and response to get a new vector."
   ]
  },
  {
   "cell_type": "code",
   "execution_count": 2,
   "metadata": {},
   "outputs": [],
   "source": [
    "symmetry = ['rotate180', 'rotate90', 'rotate270', 'flip_v', 'flip_h']\n",
    "csv_file_name = 'base_tic_tac_toe_moves.csv'\n"
   ]
  },
  {
   "cell_type": "code",
   "execution_count": 3,
   "metadata": {},
   "outputs": [],
   "source": [
    "def get_moves_from_csv(file):\n",
    "    \"\"\"\n",
    "    :param csv_file: csv file location containing the boards w/ responses\n",
    "    :return: moves: list of moves with index of best response\n",
    "    :param file: \n",
    "    :return: \n",
    "    \"\"\"\n",
    "    moves = []\n",
    "    with open(file, 'rt') as csv_file:\n",
    "        reader = csv.reader(csv_file, delimiter=',')\n",
    "        for row in reader:\n",
    "            moves.append(([int(x) for x in row[0:9]], int(row[9])))\n",
    "    return moves\n"
   ]
  },
  {
   "cell_type": "code",
   "execution_count": 4,
   "metadata": {},
   "outputs": [],
   "source": [
    "def print_board(board):\n",
    "    \"\"\"Prints the board\"\"\"\n",
    "    symbols = ['O', 'X']\n",
    "    board_plus1 = [int(x) + 1 for x in board]\n",
    "    print(' ' + symbols[board_plus1[0]] + ' | ' + symbols[board_plus1[1]] + ' | ' + symbols[board_plus1[2]])\n",
    "    print('___________')\n",
    "    print(' ' + symbols[board_plus1[3]] + ' | ' + symbols[board_plus1[4]] + ' | ' + symbols[board_plus1[5]])\n",
    "    print('___________')\n",
    "    print(' ' + symbols[board_plus1[6]] + ' | ' + symbols[board_plus1[7]] + ' | ' + symbols[board_plus1[8]])"
   ]
  },
  {
   "cell_type": "code",
   "execution_count": null,
   "metadata": {},
   "outputs": [],
   "source": [
    "# Given a board, a response, and a transformation, get the new board+response\n",
    "def get_symmetry(board, response, transformation):\n",
    "    \"\"\"\n",
    "    :param board: list of integers 9 long:\n",
    "     opposing mark = -1\n",
    "     friendly mark = 1\n",
    "     empty space = 0\n",
    "    :param transformation: one of five transformations on a board:\n",
    "     'rotate180', 'rotate90', 'rotate270', 'flip_v', 'flip_h'\n",
    "    :return: tuple: (new_board, new_response)\n",
    "    \"\"\"\n",
    "    pass\n"
   ]
  },
  {
   "cell_type": "code",
   "execution_count": 5,
   "metadata": {},
   "outputs": [],
   "source": [
    "# get list of optimal moves from csv file\n",
    "moves = get_moves_from_csv(csv_file_name)\n",
    "\n",
    "# Create a train set\n",
    "train_length = 500\n",
    "train_set = []\n",
    "\n"
   ]
  }
 ],
 "metadata": {
  "kernelspec": {
   "display_name": "Python 2",
   "language": "python",
   "name": "python2"
  },
  "language_info": {
   "codemirror_mode": {
    "name": "ipython",
    "version": 2
   },
   "file_extension": ".py",
   "mimetype": "text/x-python",
   "name": "python",
   "nbconvert_exporter": "python",
   "pygments_lexer": "ipython2",
   "version": "2.7.6"
  }
 },
 "nbformat": 4,
 "nbformat_minor": 0
}
