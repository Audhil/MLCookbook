{
 "cells": [
  {
   "cell_type": "code",
   "execution_count": 5,
   "metadata": {
    "collapsed": true
   },
   "outputs": [],
   "source": [
    "\"\"\"Gate,\n",
    "Src code : \n",
    "https://github.com/Audhil/tensorflow_cookbook/blob/master/06_Neural_Networks/02_Implementing_an_Operational_Gate/02_gates.ipynb\"\"\"\n",
    "# f(x) = x * a + b\n",
    "import tensorflow as tf"
   ]
  },
  {
   "cell_type": "code",
   "execution_count": 6,
   "metadata": {},
   "outputs": [
    {
     "name": "stdout",
     "output_type": "stream",
     "text": [
      "6.5 *  5.0 + 10.3= 42.8\n7.22 *  5.0 + 10.444= 46.544\n7.5656 *  5.0 + 10.5131= 48.3411\n7.73149 *  5.0 + 10.5463= 49.2037\n7.81111 *  5.0 + 10.5622= 49.6178\n7.84933 *  5.0 + 10.5699= 49.8165\n7.86768 *  5.0 + 10.5735= 49.9119\n7.87649 *  5.0 + 10.5753= 49.9577\n7.88071 *  5.0 + 10.5761= 49.9797\n7.88274 *  5.0 + 10.5765= 49.9903\n"
     ]
    }
   ],
   "source": [
    "x_val = 5.\n",
    "y_target_val = 50.\n",
    "learning_rate = .01\n",
    "epochs = 10\n",
    "\n",
    "x_place_holder = tf.placeholder(dtype=tf.float32)\n",
    "\n",
    "a_var = tf.Variable(tf.constant(5.))\n",
    "b_var = tf.Variable(tf.constant(10.))\n",
    "\n",
    "# model\n",
    "two_gate = tf.add(b_var, tf.multiply(x_place_holder, a_var))\n",
    "\n",
    "# loss\n",
    "loss = tf.square(tf.subtract(two_gate, y_target_val))\n",
    "\n",
    "# optimizer\n",
    "optimizer = tf.train.GradientDescentOptimizer(learning_rate).minimize(loss)\n",
    "\n",
    "init = tf.global_variables_initializer()\n",
    "\n",
    "with tf.Session() as sess:\n",
    "    sess.run(init)\n",
    "    for i in range(epochs):\n",
    "        sess.run(optimizer, feed_dict={x_place_holder: x_val})\n",
    "        print(str(sess.run(a_var)) + ' * ',\n",
    "              str(x_val) + ' + ' + str(sess.run(b_var)) + '= ' + str(\n",
    "                  sess.run(two_gate, feed_dict={x_place_holder: x_val})))\n"
   ]
  }
 ],
 "metadata": {
  "kernelspec": {
   "display_name": "Python 2",
   "language": "python",
   "name": "python2"
  },
  "language_info": {
   "codemirror_mode": {
    "name": "ipython",
    "version": 2
   },
   "file_extension": ".py",
   "mimetype": "text/x-python",
   "name": "python",
   "nbconvert_exporter": "python",
   "pygments_lexer": "ipython2",
   "version": "2.7.6"
  }
 },
 "nbformat": 4,
 "nbformat_minor": 0
}
