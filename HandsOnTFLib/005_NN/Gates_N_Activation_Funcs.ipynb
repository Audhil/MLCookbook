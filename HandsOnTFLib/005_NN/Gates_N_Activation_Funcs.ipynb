{
 "cells": [
  {
   "cell_type": "code",
   "execution_count": 149,
   "metadata": {
    "collapsed": true
   },
   "outputs": [],
   "source": [
    "\"\"\"Combining Gates & Activation functions\n",
    "src : https://github.com/Audhil/tensorflow_cookbook/blob/master/06_Neural_Networks/03_Working_with_Activation_Functions/03_activation_functions.ipynb\"\"\"\n",
    "\n",
    "import tensorflow as tf\n",
    "import numpy as np\n",
    "import matplotlib.pyplot as plt\n",
    "%matplotlib inline"
   ]
  },
  {
   "cell_type": "code",
   "execution_count": 150,
   "metadata": {},
   "outputs": [
    {
     "name": "stdout",
     "output_type": "stream",
     "text": [
      "Displaying Sigmoid & ReLU activation functions for .75 target\nStep : 50   A1 : [[-0.70978492]]  A2 : [[ 0.54816276]]  b1 : [[ 1.51930404]]  b2 : [[-0.32817137]]\nSigmoid : 0.521404 ReLU : 0.778922\nStep : 100   A1 : [[-0.61337411]]  A2 : [[ 0.53796732]]  b1 : [[ 1.56727636]]  b2 : [[-0.33065185]]\nSigmoid : 0.585898 ReLU : 0.739293\n"
     ]
    },
    {
     "name": "stdout",
     "output_type": "stream",
     "text": [
      "Step : 150   A1 : [[-0.54380018]]  A2 : [[ 0.53850287]]  b1 : [[ 1.60182297]]  b2 : [[-0.32772854]]\nSigmoid : 0.62713 ReLU : 0.743294\nStep : 200   A1 : [[-0.49358481]]  A2 : [[ 0.53870177]]  b1 : [[ 1.62684727]]  b2 : [[-0.32496569]]\nSigmoid : 0.655698 ReLU : 0.747148\nStep : 250   A1 : [[-0.45615354]]  A2 : [[ 0.53827685]]  b1 : [[ 1.64551032]]  b2 : [[-0.32250664]]\nSigmoid : 0.676833 ReLU : 0.746528\nStep : 300   A1 : [[-0.42711437]]  A2 : [[ 0.53617185]]  b1 : [[ 1.65991485]]  b2 : [[-0.32082692]]\nSigmoid : 0.693098 ReLU : 0.740092\nStep : 350   A1 : [[-0.40453169]]  A2 : [[ 0.53346843]]  b1 : [[ 1.671103]]  b2 : [[-0.31962323]]\nSigmoid : 0.701442 ReLU : 0.75712\n"
     ]
    },
    {
     "name": "stdout",
     "output_type": "stream",
     "text": [
      "Step : 400   A1 : [[-0.38694739]]  A2 : [[ 0.53245318]]  b1 : [[ 1.67982447]]  b2 : [[-0.31759399]]\nSigmoid : 0.710857 ReLU : 0.755605\nStep : 450   A1 : [[-0.37296605]]  A2 : [[ 0.53178447]]  b1 : [[ 1.68675137]]  b2 : [[-0.31543836]]\nSigmoid : 0.718177 ReLU : 0.75529\nStep : 500   A1 : [[-0.36170587]]  A2 : [[ 0.53142339]]  b1 : [[ 1.69231844]]  b2 : [[-0.31312779]]\nSigmoid : 0.724737 ReLU : 0.750653\n"
     ]
    },
    {
     "data": {
      "image/png": "[encoded data removed]",
      "text/plain": [
       "<matplotlib.figure.Figure at 0x11d905908>"
      ]
     },
     "metadata": {},
     "output_type": "display_data"
    }
   ],
   "source": [
    "# to generate the same random number for each iteration or running the code\n",
    "np.random.seed(0)\n",
    "tf.set_random_seed(5)\n",
    "\n",
    "y_actual_value = .75\n",
    "batch_size = 25\n",
    "learning_rate = .01\n",
    "epochs = 500\n",
    "display_step = 50\n",
    "\n",
    "# random numbers\n",
    "x = np.random.normal(2, .1, 500)\n",
    "\n",
    "# formulae\n",
    "# y = A * x + b\n",
    "\n",
    "A1 = tf.Variable(tf.random_normal(shape=[1, 1]))\n",
    "b1 = tf.Variable(tf.random_normal(shape=[1, 1]))\n",
    "A2 = tf.Variable(tf.random_normal(shape=[1, 1]))\n",
    "b2 = tf.Variable(tf.random_normal(shape=[1, 1]))\n",
    "\n",
    "x_place_holder = tf.placeholder(shape=[None, 1], dtype=tf.float32)\n",
    "\n",
    "# sigmoid activation\n",
    "sigmoid_activation = tf.nn.sigmoid(tf.add(b1, tf.multiply(x_place_holder, A1)))\n",
    "\n",
    "# relu activation\n",
    "relu_activation = tf.nn.relu(tf.add(b2, tf.multiply(x_place_holder, A2)))\n",
    "\n",
    "# loss - MSE\n",
    "sigmoid_loss = tf.reduce_mean(tf.square(tf.subtract(sigmoid_activation, y_actual_value)))\n",
    "relu_loss = tf.reduce_mean(tf.square(tf.subtract(relu_activation, y_actual_value)))\n",
    "\n",
    "# optimizer\n",
    "optimizer = tf.train.GradientDescentOptimizer(learning_rate)\n",
    "\n",
    "train_sigmoid = optimizer.minimize(sigmoid_loss)\n",
    "train_relu = optimizer.minimize(relu_loss)\n",
    "\n",
    "init_vars = tf.global_variables_initializer()\n",
    "\n",
    "with tf.Session() as sess:\n",
    "    sess.run(init_vars)\n",
    "\n",
    "    # for plotting purpose\n",
    "    sigmoid_loss_list = []\n",
    "    relu_loss_list = []\n",
    "    print('Displaying Sigmoid & ReLU activation functions for .75 target')\n",
    "    for i in range(epochs):\n",
    "        random_index = np.random.choice(len(x), size=batch_size)\n",
    "        sess.run(train_sigmoid, feed_dict={x_place_holder: np.transpose([x[random_index]])})\n",
    "        sess.run(train_relu, feed_dict={x_place_holder: np.transpose([x[random_index]])})\n",
    "\n",
    "        sigmoid_loss_list.append(sess.run(sigmoid_loss, feed_dict={x_place_holder: np.transpose([x[random_index]])}))\n",
    "        relu_loss_list.append(sess.run(relu_loss, feed_dict={x_place_holder: np.transpose([x[random_index]])}))\n",
    "\n",
    "        if (i + 1) % display_step == 0:\n",
    "            print('Step : %d ' % (i + 1),\n",
    "                  ' A1 : ' + str(sess.run(A1)),\n",
    "                  ' A2 : ' + str(sess.run(A2)),\n",
    "                  ' b1 : ' + str(sess.run(b1)),\n",
    "                  ' b2 : ' + str(sess.run(b2)))\n",
    "\n",
    "            sigmoid_output = np.mean(\n",
    "                sess.run(sigmoid_activation, feed_dict={x_place_holder: np.transpose([x[random_index]])}))\n",
    "\n",
    "            relu_output = np.mean(\n",
    "                sess.run(relu_activation, feed_dict={x_place_holder: np.transpose([x[random_index]])}))\n",
    "\n",
    "            print('Sigmoid : ' + str(np.mean(sigmoid_output))\n",
    "                  + ' ReLU : ' + str(np.mean(relu_output)))\n",
    "\n",
    "    # plot the graph\n",
    "    plt.plot(sigmoid_loss_list, 'k-', label='Sigmoid Activation')\n",
    "    plt.plot(relu_loss_list, 'r--', label='Relu Activation')\n",
    "    plt.ylim(0, 1.0)\n",
    "    plt.title('Loss per Generation')\n",
    "    plt.legend(loc='upper right')\n",
    "    plt.xlabel('Generation')\n",
    "    plt.ylabel('Loss')\n",
    "    plt.show()\n"
   ]
  }
 ],
 "metadata": {
  "kernelspec": {
   "display_name": "Python 2",
   "language": "python",
   "name": "python2"
  },
  "language_info": {
   "codemirror_mode": {
    "name": "ipython",
    "version": 2
   },
   "file_extension": ".py",
   "mimetype": "text/x-python",
   "name": "python",
   "nbconvert_exporter": "python",
   "pygments_lexer": "ipython2",
   "version": "2.7.6"
  }
 },
 "nbformat": 4,
 "nbformat_minor": 0
}
