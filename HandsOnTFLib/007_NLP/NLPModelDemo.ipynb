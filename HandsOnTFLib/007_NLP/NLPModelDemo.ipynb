{
 "cells": [
  {
   "cell_type": "code",
   "execution_count": 61,
   "metadata": {
    "collapsed": true
   },
   "outputs": [],
   "source": [
    "\"\"\"demo\n",
    "@ https://github.com/Audhil/tensorflow_cookbook/blob/master/07_Natural_Language_Processing/02_Working_with_Bag_of_Words/02_bag_of_words.ipynb\"\"\"\n",
    "\n",
    "import tensorflow as tf\n",
    "import os\n",
    "import csv\n",
    "import requests\n",
    "import matplotlib.pyplot as plt\n",
    "from zipfile import ZipFile\n",
    "import io\n",
    "import string\n",
    "from tensorflow.contrib import learn\n",
    "import numpy as np\n",
    "\n",
    "os_path = os.path\n"
   ]
  },
  {
   "cell_type": "code",
   "execution_count": 62,
   "metadata": {},
   "outputs": [],
   "source": [
    "folder_name = 'SPAM_HAM_DIR'\n",
    "file_name = 'spam_ham_file.csv'\n",
    "\n",
    "file_loc = os_path.join(folder_name, file_name)\n",
    "\n",
    "zip_url = 'http://archive.ics.uci.edu/ml/machine-learning-databases/00228/smsspamcollection.zip'\n",
    "spam_file_name = 'SMSSpamCollection'\n",
    "\n",
    "# create folder if un available\n",
    "if not os_path.exists(folder_name):\n",
    "    os.mkdir(folder_name)\n",
    "\n",
    "if os_path.isfile(file_loc):\n",
    "    \"\"\"Load from file\"\"\"\n",
    "    text_data = []\n",
    "    with open(file_loc, 'r') as csv_file:\n",
    "        reader = csv.reader(csv_file)\n",
    "        for row in reader:\n",
    "            text_data.append(row)\n",
    "else:\n",
    "    \"\"\"Download the data\"\"\"\n",
    "    r = requests.get(zip_url)\n",
    "    z = ZipFile(io.BytesIO(r.content))\n",
    "    file = z.read(spam_file_name)\n",
    "    # format data\n",
    "    text_data = file.decode()\n",
    "    text_data = text_data.encode('ascii', errors='ignore')\n",
    "    text_data = text_data.decode().split('\\n')\n",
    "    text_data = [x.split('\\t') for x in text_data if len(x) >= 1]\n",
    "\n",
    "    # write to csv\n",
    "    with open(file_loc, 'w') as csv_file:\n",
    "        writer = csv.writer(csv_file)\n",
    "        writer.writerows(text_data)\n",
    "\n",
    "texts = [x[1] for x in text_data]\n",
    "target = [x[0] for x in text_data]\n"
   ]
  },
  {
   "cell_type": "code",
   "execution_count": 63,
   "metadata": {
    "collapsed": false
   },
   "outputs": [],
   "source": [
    "\"\"\"To reduce the potential vocabulary size, we normalize the text. \n",
    "To do this, we remove the influence of capitalization and numbers in the text.\"\"\"\n",
    "\n",
    "# Relabel 'spam' as 1, 'ham' as 0\n",
    "target = [1 if x == 'spam' else 0 for x in target]\n",
    "\n",
    "# normalize text\n",
    "# lower case\n",
    "texts = [x.lower() for x in texts]\n",
    "# print('texts 1: \\n', texts)\n",
    "\n",
    "# remove punctuations\n",
    "texts = [''.join(c for c in x if c not in string.punctuation) for x in texts]\n",
    "\n",
    "# remove numbers\n",
    "texts = [''.join(c for c in x if c not in '0123456789') for x in texts]\n",
    "\n",
    "# Trim extra whitespace\n",
    "texts = [' '.join(x.split()) for x in texts]\n"
   ]
  },
  {
   "cell_type": "code",
   "execution_count": 64,
   "metadata": {},
   "outputs": [
    {
     "data": {
      "image/png": "[encoded data removed]",
      "text/plain": [
       "<matplotlib.figure.Figure at 0x11703efd0>"
      ]
     },
     "metadata": {},
     "output_type": "display_data"
    }
   ],
   "source": [
    "# To determine a good sentence length to pad/crop at, we plot a histogram of text lengths (in words)\n",
    "% matplotlib inline\n",
    "# Plot histogram of text lengths\n",
    "text_lengths = [len(x.split()) for x in texts]\n",
    "text_lengths = [x for x in text_lengths if x < 50]\n",
    "\n",
    "plt.hist(text_lengths, bins=25)\n",
    "plt.title('Histogram of # of Words in Texts')\n",
    "plt.show()"
   ]
  },
  {
   "cell_type": "code",
   "execution_count": 65,
   "metadata": {},
   "outputs": [
    {
     "name": "stdout",
     "output_type": "stream",
     "text": [
      "Tensor(\"Diag_2:0\", shape=(10, 10), dtype=float32)\n[[ 1.  0.  0.  0.  0.  0.  0.  0.  0.  0.]\n [ 0.  1.  0.  0.  0.  0.  0.  0.  0.  0.]\n [ 0.  0.  1.  0.  0.  0.  0.  0.  0.  0.]\n [ 0.  0.  0.  1.  0.  0.  0.  0.  0.  0.]\n [ 0.  0.  0.  0.  1.  0.  0.  0.  0.  0.]\n [ 0.  0.  0.  0.  0.  1.  0.  0.  0.  0.]\n [ 0.  0.  0.  0.  0.  0.  1.  0.  0.  0.]\n [ 0.  0.  0.  0.  0.  0.  0.  1.  0.  0.]\n [ 0.  0.  0.  0.  0.  0.  0.  0.  1.  0.]\n [ 0.  0.  0.  0.  0.  0.  0.  0.  0.  1.]]\n"
     ]
    }
   ],
   "source": [
    "\"\"\"We crop/pad all texts to be 25 words long. We also will filter out any words that do not appear at least 3 times.\"\"\"\n",
    "# max word length, and min frequency\n",
    "sentence_size = 25\n",
    "min_word_repeat_frequency = 3\n",
    "\n",
    "# TensorFlow has a built in text processing function called VocabularyProcessor(). \n",
    "# We use this function to process the texts.\n",
    "vocab_processor = learn.preprocessing.VocabularyProcessor(sentence_size, min_frequency=min_word_repeat_frequency)\n",
    "\n",
    "# Have to fit transform to get length of unique words.\n",
    "vocab_processor.transform(texts)\n",
    "embedding_size = len([x for x in vocab_processor.transform(texts)])\n",
    "\n",
    "# splitting data to train/test\n",
    "train_indices = np.random.choice(len(texts), round(len(texts) * .8), replace=False)\n",
    "test_indices = np.array(list(set(range(len(texts))) - set(train_indices)))\n",
    "texts_train = [x for ix, x in enumerate(texts) if ix in train_indices]\n",
    "texts_test = [x for ix, x in enumerate(texts) if ix in test_indices]\n",
    "\n",
    "target_train = [x for ix, x in enumerate(target) if ix in train_indices]\n",
    "target_test = [x for ix, x in enumerate(target) if ix in test_indices]\n",
    "\n",
    "# For one-hot-encoding, we setup an identity matrix for the TensorFlow embedding lookup.\n",
    "# We also create the variables and placeholders for the logistic regression we will perform.\n",
    "\n",
    "# Setup Index Matrix for one-hot-encoding\n",
    "identity_mat = tf.diag(tf.ones(shape=[embedding_size]))\n",
    "\n",
    "# Create variables for logistic regression\n",
    "A = tf.Variable(tf.random_normal(shape=[embedding_size, 1]))\n",
    "b = tf.Variable(tf.random_normal(shape=[1, 1]))\n",
    "\n",
    "# placeholders\n",
    "x_data = tf.placeholder(tf.float32, shape=[sentence_size])\n",
    "y_target = tf.placeholder(tf.float32, shape=[1, 1])\n",
    "\n",
    "\n",
    "\n",
    "# with tf.Session() as sess:\n",
    "#     sess.run(tf.global_variables_initializer())\n",
    "#     print(sess.run(identity_mat))\n"
   ]
  }
 ],
 "metadata": {
  "kernelspec": {
   "display_name": "Python 2",
   "language": "python",
   "name": "python2"
  },
  "language_info": {
   "codemirror_mode": {
    "name": "ipython",
    "version": 2
   },
   "file_extension": ".py",
   "mimetype": "text/x-python",
   "name": "python",
   "nbconvert_exporter": "python",
   "pygments_lexer": "ipython2",
   "version": "2.7.6"
  }
 },
 "nbformat": 4,
 "nbformat_minor": 0
}
