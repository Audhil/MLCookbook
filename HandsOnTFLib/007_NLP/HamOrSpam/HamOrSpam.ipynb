{
 "cells": [
  {
   "cell_type": "code",
   "execution_count": 39,
   "metadata": {
    "collapsed": true
   },
   "outputs": [],
   "source": [
    "# Tutorial @ http://jrmeyer.github.io/tutorial/2016/02/01/TensorFlow-Tutorial.html\n",
    "\n",
    "import tensorflow as tf\n",
    "import numpy as np\n",
    "import matplotlib.pyplot as plt\n",
    "% matplotlib inline\n",
    "import tarfile\n",
    "import os\n",
    "import time\n"
   ]
  },
  {
   "cell_type": "code",
   "execution_count": 40,
   "metadata": {
    "collapsed": false
   },
   "outputs": [
    {
     "name": "stdout",
     "output_type": "stream",
     "text": [
      "Extracted tar file to current directory\nExtracted again\nloading training data\n"
     ]
    },
    {
     "name": "stdout",
     "output_type": "stream",
     "text": [
      "loading test data\n"
     ]
    },
    {
     "name": "stdout",
     "output_type": "stream",
     "text": [
      "step 0, training accuracy 0.530955\nstep 0, cost 288.369\nstep 0, change in cost 288.369\n"
     ]
    },
    {
     "name": "stdout",
     "output_type": "stream",
     "text": [
      "step 10, training accuracy 0.530955\nstep 10, cost 266.656\nstep 10, change in cost 21.7139\n"
     ]
    },
    {
     "name": "stdout",
     "output_type": "stream",
     "text": [
      "step 20, training accuracy 0.528856\nstep 20, cost 253.354\nstep 20, change in cost 13.3017\n"
     ]
    },
    {
     "name": "stdout",
     "output_type": "stream",
     "text": [
      "step 30, training accuracy 0.534103\nstep 30, cost 246.491\nstep 30, change in cost 6.86256\n"
     ]
    },
    {
     "name": "stdout",
     "output_type": "stream",
     "text": [
      "step 40, training accuracy 0.533054\nstep 40, cost 243.35\nstep 40, change in cost 3.14108\n"
     ]
    },
    {
     "name": "stdout",
     "output_type": "stream",
     "text": [
      "step 50, training accuracy 0.532004\nstep 50, cost 241.989\nstep 50, change in cost 1.36095\n"
     ]
    },
    {
     "name": "stdout",
     "output_type": "stream",
     "text": [
      "step 60, training accuracy 0.534103\nstep 60, cost 241.393\nstep 60, change in cost 0.596191\n"
     ]
    },
    {
     "name": "stdout",
     "output_type": "stream",
     "text": [
      "step 70, training accuracy 0.529906\nstep 70, cost 241.108\nstep 70, change in cost 0.285141\n"
     ]
    },
    {
     "name": "stdout",
     "output_type": "stream",
     "text": [
      "step 80, training accuracy 0.534103\nstep 80, cost 240.946\nstep 80, change in cost 0.161774\n"
     ]
    },
    {
     "name": "stdout",
     "output_type": "stream",
     "text": [
      "step 90, training accuracy 0.534103\nstep 90, cost 240.833\nstep 90, change in cost 0.11348\n"
     ]
    },
    {
     "name": "stdout",
     "output_type": "stream",
     "text": [
      "step 100, training accuracy 0.533054\nstep 100, cost 240.738\nstep 100, change in cost 0.0947571\n"
     ]
    },
    {
     "name": "stdout",
     "output_type": "stream",
     "text": [
      "step 110, training accuracy 0.534103\nstep 110, cost 240.651\nstep 110, change in cost 0.0872955\n"
     ]
    },
    {
     "name": "stdout",
     "output_type": "stream",
     "text": [
      "step 120, training accuracy 0.535152\nstep 120, cost 240.566\nstep 120, change in cost 0.0845337\n"
     ]
    },
    {
     "name": "stdout",
     "output_type": "stream",
     "text": [
      "step 130, training accuracy 0.536201\nstep 130, cost 240.483\nstep 130, change in cost 0.083374\n"
     ]
    },
    {
     "name": "stdout",
     "output_type": "stream",
     "text": [
      "step 140, training accuracy 0.5383\nstep 140, cost 240.4\nstep 140, change in cost 0.0828857\n"
     ]
    },
    {
     "name": "stdout",
     "output_type": "stream",
     "text": [
      "step 150, training accuracy 0.5383\nstep 150, cost 240.317\nstep 150, change in cost 0.0827637\n"
     ]
    },
    {
     "name": "stdout",
     "output_type": "stream",
     "text": [
      "step 160, training accuracy 0.5383\nstep 160, cost 240.234\nstep 160, change in cost 0.0826569\n"
     ]
    },
    {
     "name": "stdout",
     "output_type": "stream",
     "text": [
      "step 170, training accuracy 0.539349\nstep 170, cost 240.152\nstep 170, change in cost 0.082489\n"
     ]
    },
    {
     "name": "stdout",
     "output_type": "stream",
     "text": [
      "step 180, training accuracy 0.540399\nstep 180, cost 240.069\nstep 180, change in cost 0.0824585\n"
     ]
    },
    {
     "name": "stdout",
     "output_type": "stream",
     "text": [
      "step 190, training accuracy 0.541448\nstep 190, cost 239.987\nstep 190, change in cost 0.0824738\n"
     ]
    },
    {
     "name": "stdout",
     "output_type": "stream",
     "text": [
      "step 200, training accuracy 0.541448\nstep 200, cost 239.905\nstep 200, change in cost 0.0824127\n"
     ]
    },
    {
     "name": "stdout",
     "output_type": "stream",
     "text": [
      "step 210, training accuracy 0.541448\nstep 210, cost 239.822\nstep 210, change in cost 0.0824127\n"
     ]
    },
    {
     "name": "stdout",
     "output_type": "stream",
     "text": [
      "step 220, training accuracy 0.541448\nstep 220, cost 239.74\nstep 220, change in cost 0.0822906\n"
     ]
    },
    {
     "name": "stdout",
     "output_type": "stream",
     "text": [
      "step 230, training accuracy 0.542497\nstep 230, cost 239.658\nstep 230, change in cost 0.0822144\n"
     ]
    },
    {
     "name": "stdout",
     "output_type": "stream",
     "text": [
      "step 240, training accuracy 0.544596\nstep 240, cost 239.575\nstep 240, change in cost 0.0823364\n"
     ]
    },
    {
     "name": "stdout",
     "output_type": "stream",
     "text": [
      "step 250, training accuracy 0.544596\nstep 250, cost 239.493\nstep 250, change in cost 0.0821228\n"
     ]
    },
    {
     "name": "stdout",
     "output_type": "stream",
     "text": [
      "step 260, training accuracy 0.545645\nstep 260, cost 239.411\nstep 260, change in cost 0.0821838\n"
     ]
    },
    {
     "name": "stdout",
     "output_type": "stream",
     "text": [
      "step 270, training accuracy 0.545645\nstep 270, cost 239.329\nstep 270, change in cost 0.0821838\n"
     ]
    },
    {
     "name": "stdout",
     "output_type": "stream",
     "text": [
      "step 280, training accuracy 0.545645\nstep 280, cost 239.247\nstep 280, change in cost 0.082016\n"
     ]
    },
    {
     "name": "stdout",
     "output_type": "stream",
     "text": [
      "step 290, training accuracy 0.545645\nstep 290, cost 239.165\nstep 290, change in cost 0.0820465\n"
     ]
    },
    {
     "name": "stdout",
     "output_type": "stream",
     "text": [
      "step 300, training accuracy 0.547744\nstep 300, cost 239.083\nstep 300, change in cost 0.0819855\n"
     ]
    },
    {
     "name": "stdout",
     "output_type": "stream",
     "text": [
      "step 310, training accuracy 0.547744\nstep 310, cost 239.001\nstep 310, change in cost 0.082016\n"
     ]
    },
    {
     "name": "stdout",
     "output_type": "stream",
     "text": [
      "step 320, training accuracy 0.547744\nstep 320, cost 238.919\nstep 320, change in cost 0.0818939\n"
     ]
    },
    {
     "name": "stdout",
     "output_type": "stream",
     "text": [
      "step 330, training accuracy 0.547744\nstep 330, cost 238.837\nstep 330, change in cost 0.0819092\n"
     ]
    },
    {
     "name": "stdout",
     "output_type": "stream",
     "text": [
      "step 340, training accuracy 0.548793\nstep 340, cost 238.755\nstep 340, change in cost 0.0817871\n"
     ]
    },
    {
     "name": "stdout",
     "output_type": "stream",
     "text": [
      "step 350, training accuracy 0.548793\nstep 350, cost 238.673\nstep 350, change in cost 0.0818481\n"
     ]
    },
    {
     "name": "stdout",
     "output_type": "stream",
     "text": [
      "step 360, training accuracy 0.549843\nstep 360, cost 238.592\nstep 360, change in cost 0.0816956\n"
     ]
    },
    {
     "name": "stdout",
     "output_type": "stream",
     "text": [
      "step 370, training accuracy 0.550892\nstep 370, cost 238.51\nstep 370, change in cost 0.0817719\n"
     ]
    },
    {
     "name": "stdout",
     "output_type": "stream",
     "text": [
      "step 380, training accuracy 0.550892\nstep 380, cost 238.428\nstep 380, change in cost 0.0816498\n"
     ]
    },
    {
     "name": "stdout",
     "output_type": "stream",
     "text": [
      "step 390, training accuracy 0.550892\nstep 390, cost 238.347\nstep 390, change in cost 0.0815735\n"
     ]
    },
    {
     "name": "stdout",
     "output_type": "stream",
     "text": [
      "step 400, training accuracy 0.550892\nstep 400, cost 238.265\nstep 400, change in cost 0.081543\n"
     ]
    },
    {
     "name": "stdout",
     "output_type": "stream",
     "text": [
      "step 410, training accuracy 0.551941\nstep 410, cost 238.183\nstep 410, change in cost 0.0817108\n"
     ]
    },
    {
     "name": "stdout",
     "output_type": "stream",
     "text": [
      "step 420, training accuracy 0.552991\nstep 420, cost 238.102\nstep 420, change in cost 0.0815125\n"
     ]
    },
    {
     "name": "stdout",
     "output_type": "stream",
     "text": [
      "step 430, training accuracy 0.552991\nstep 430, cost 238.02\nstep 430, change in cost 0.0813599\n"
     ]
    },
    {
     "name": "stdout",
     "output_type": "stream",
     "text": [
      "step 440, training accuracy 0.552991\nstep 440, cost 237.939\nstep 440, change in cost 0.0815125\n"
     ]
    },
    {
     "name": "stdout",
     "output_type": "stream",
     "text": [
      "step 450, training accuracy 0.555089\nstep 450, cost 237.858\nstep 450, change in cost 0.0813599\n"
     ]
    },
    {
     "name": "stdout",
     "output_type": "stream",
     "text": [
      "step 460, training accuracy 0.555089\nstep 460, cost 237.776\nstep 460, change in cost 0.0814056\n"
     ]
    },
    {
     "name": "stdout",
     "output_type": "stream",
     "text": [
      "step 470, training accuracy 0.557188\nstep 470, cost 237.695\nstep 470, change in cost 0.0812378\n"
     ]
    },
    {
     "name": "stdout",
     "output_type": "stream",
     "text": [
      "step 480, training accuracy 0.558237\nstep 480, cost 237.614\nstep 480, change in cost 0.0812836\n"
     ]
    },
    {
     "name": "stdout",
     "output_type": "stream",
     "text": [
      "step 490, training accuracy 0.558237\nstep 490, cost 237.533\nstep 490, change in cost 0.0811615\n"
     ]
    },
    {
     "name": "stdout",
     "output_type": "stream",
     "text": [
      "step 500, training accuracy 0.560336\nstep 500, cost 237.451\nstep 500, change in cost 0.0812225\n"
     ]
    },
    {
     "name": "stdout",
     "output_type": "stream",
     "text": [
      "step 510, training accuracy 0.560336\nstep 510, cost 237.37\nstep 510, change in cost 0.0811157\n"
     ]
    },
    {
     "name": "stdout",
     "output_type": "stream",
     "text": [
      "step 520, training accuracy 0.559286\nstep 520, cost 237.289\nstep 520, change in cost 0.0811462\n"
     ]
    },
    {
     "name": "stdout",
     "output_type": "stream",
     "text": [
      "step 530, training accuracy 0.559286\nstep 530, cost 237.208\nstep 530, change in cost 0.0809937\n"
     ]
    },
    {
     "name": "stdout",
     "output_type": "stream",
     "text": [
      "step 540, training accuracy 0.559286\nstep 540, cost 237.127\nstep 540, change in cost 0.0810852\n"
     ]
    },
    {
     "name": "stdout",
     "output_type": "stream",
     "text": [
      "step 550, training accuracy 0.560336\nstep 550, cost 237.046\nstep 550, change in cost 0.0809937\n"
     ]
    },
    {
     "name": "stdout",
     "output_type": "stream",
     "text": [
      "step 560, training accuracy 0.562434\nstep 560, cost 236.965\nstep 560, change in cost 0.0808868\n"
     ]
    },
    {
     "name": "stdout",
     "output_type": "stream",
     "text": [
      "step 570, training accuracy 0.564533\nstep 570, cost 236.884\nstep 570, change in cost 0.0808716\n"
     ]
    },
    {
     "name": "stdout",
     "output_type": "stream",
     "text": [
      "step 580, training accuracy 0.564533\nstep 580, cost 236.803\nstep 580, change in cost 0.0808563\n"
     ]
    },
    {
     "name": "stdout",
     "output_type": "stream",
     "text": [
      "step 590, training accuracy 0.564533\nstep 590, cost 236.722\nstep 590, change in cost 0.0808563\n"
     ]
    },
    {
     "name": "stdout",
     "output_type": "stream",
     "text": [
      "step 600, training accuracy 0.564533\nstep 600, cost 236.642\nstep 600, change in cost 0.0806885\n"
     ]
    },
    {
     "name": "stdout",
     "output_type": "stream",
     "text": [
      "step 610, training accuracy 0.564533\nstep 610, cost 236.561\nstep 610, change in cost 0.0807953\n"
     ]
    },
    {
     "name": "stdout",
     "output_type": "stream",
     "text": [
      "step 620, training accuracy 0.566632\nstep 620, cost 236.48\nstep 620, change in cost 0.0807037\n"
     ]
    },
    {
     "name": "stdout",
     "output_type": "stream",
     "text": [
      "step 630, training accuracy 0.566632\nstep 630, cost 236.4\nstep 630, change in cost 0.0806274\n"
     ]
    },
    {
     "name": "stdout",
     "output_type": "stream",
     "text": [
      "step 640, training accuracy 0.566632\nstep 640, cost 236.319\nstep 640, change in cost 0.0806427\n"
     ]
    },
    {
     "name": "stdout",
     "output_type": "stream",
     "text": [
      "step 650, training accuracy 0.566632\nstep 650, cost 236.238\nstep 650, change in cost 0.0805511\n"
     ]
    },
    {
     "name": "stdout",
     "output_type": "stream",
     "text": [
      "step 660, training accuracy 0.56873\nstep 660, cost 236.158\nstep 660, change in cost 0.0805054\n"
     ]
    },
    {
     "name": "stdout",
     "output_type": "stream",
     "text": [
      "step 670, training accuracy 0.56873\nstep 670, cost 236.078\nstep 670, change in cost 0.0803986\n"
     ]
    },
    {
     "name": "stdout",
     "output_type": "stream",
     "text": [
      "step 680, training accuracy 0.56873\nstep 680, cost 235.997\nstep 680, change in cost 0.0803986\n"
     ]
    },
    {
     "name": "stdout",
     "output_type": "stream",
     "text": [
      "step 690, training accuracy 0.56873\nstep 690, cost 235.917\nstep 690, change in cost 0.0803986\n"
     ]
    },
    {
     "name": "stdout",
     "output_type": "stream",
     "text": [
      "step 700, training accuracy 0.56978\nstep 700, cost 235.836\nstep 700, change in cost 0.0803833\n"
     ]
    },
    {
     "name": "stdout",
     "output_type": "stream",
     "text": [
      "step 710, training accuracy 0.571878\nstep 710, cost 235.756\nstep 710, change in cost 0.0803528\n"
     ]
    },
    {
     "name": "stdout",
     "output_type": "stream",
     "text": [
      "step 720, training accuracy 0.571878\nstep 720, cost 235.676\nstep 720, change in cost 0.0802765\n"
     ]
    },
    {
     "name": "stdout",
     "output_type": "stream",
     "text": [
      "step 730, training accuracy 0.573977\nstep 730, cost 235.596\nstep 730, change in cost 0.0801392\n"
     ]
    },
    {
     "name": "stdout",
     "output_type": "stream",
     "text": [
      "step 740, training accuracy 0.573977\nstep 740, cost 235.515\nstep 740, change in cost 0.0802765\n"
     ]
    },
    {
     "name": "stdout",
     "output_type": "stream",
     "text": [
      "step 750, training accuracy 0.573977\nstep 750, cost 235.435\nstep 750, change in cost 0.0801392\n"
     ]
    },
    {
     "name": "stdout",
     "output_type": "stream",
     "text": [
      "step 760, training accuracy 0.573977\nstep 760, cost 235.355\nstep 760, change in cost 0.0800781\n"
     ]
    },
    {
     "name": "stdout",
     "output_type": "stream",
     "text": [
      "step 770, training accuracy 0.573977\nstep 770, cost 235.275\nstep 770, change in cost 0.0801086\n"
     ]
    },
    {
     "name": "stdout",
     "output_type": "stream",
     "text": [
      "step 780, training accuracy 0.573977\nstep 780, cost 235.195\nstep 780, change in cost 0.0799255\n"
     ]
    },
    {
     "name": "stdout",
     "output_type": "stream",
     "text": [
      "step 790, training accuracy 0.573977\nstep 790, cost 235.115\nstep 790, change in cost 0.0800018\n"
     ]
    },
    {
     "name": "stdout",
     "output_type": "stream",
     "text": [
      "step 800, training accuracy 0.575026\nstep 800, cost 235.035\nstep 800, change in cost 0.0799713\n"
     ]
    },
    {
     "name": "stdout",
     "output_type": "stream",
     "text": [
      "step 810, training accuracy 0.575026\nstep 810, cost 234.955\nstep 810, change in cost 0.0798798\n"
     ]
    },
    {
     "name": "stdout",
     "output_type": "stream",
     "text": [
      "step 820, training accuracy 0.576076\nstep 820, cost 234.875\nstep 820, change in cost 0.079834\n"
     ]
    },
    {
     "name": "stdout",
     "output_type": "stream",
     "text": [
      "step 830, training accuracy 0.576076\nstep 830, cost 234.796\nstep 830, change in cost 0.0798035\n"
     ]
    },
    {
     "name": "stdout",
     "output_type": "stream",
     "text": [
      "step 840, training accuracy 0.577125\nstep 840, cost 234.716\nstep 840, change in cost 0.0798492\n"
     ]
    },
    {
     "name": "stdout",
     "output_type": "stream",
     "text": [
      "step 850, training accuracy 0.577125\nstep 850, cost 234.636\nstep 850, change in cost 0.0796967\n"
     ]
    },
    {
     "name": "stdout",
     "output_type": "stream",
     "text": [
      "step 860, training accuracy 0.577125\nstep 860, cost 234.556\nstep 860, change in cost 0.0797119\n"
     ]
    },
    {
     "name": "stdout",
     "output_type": "stream",
     "text": [
      "step 870, training accuracy 0.577125\nstep 870, cost 234.477\nstep 870, change in cost 0.0796509\n"
     ]
    },
    {
     "name": "stdout",
     "output_type": "stream",
     "text": [
      "step 880, training accuracy 0.578174\nstep 880, cost 234.397\nstep 880, change in cost 0.0795135\n"
     ]
    },
    {
     "name": "stdout",
     "output_type": "stream",
     "text": [
      "step 890, training accuracy 0.578174\nstep 890, cost 234.318\nstep 890, change in cost 0.0795898\n"
     ]
    },
    {
     "name": "stdout",
     "output_type": "stream",
     "text": [
      "step 900, training accuracy 0.579224\nstep 900, cost 234.238\nstep 900, change in cost 0.0795135\n"
     ]
    },
    {
     "name": "stdout",
     "output_type": "stream",
     "text": [
      "step 910, training accuracy 0.579224\nstep 910, cost 234.159\nstep 910, change in cost 0.0794678\n"
     ]
    },
    {
     "name": "stdout",
     "output_type": "stream",
     "text": [
      "step 920, training accuracy 0.579224\nstep 920, cost 234.079\nstep 920, change in cost 0.0794373\n"
     ]
    },
    {
     "name": "stdout",
     "output_type": "stream",
     "text": [
      "step 930, training accuracy 0.579224\nstep 930, cost 234\nstep 930, change in cost 0.0794067\n"
     ]
    },
    {
     "name": "stdout",
     "output_type": "stream",
     "text": [
      "step 940, training accuracy 0.580273\nstep 940, cost 233.92\nstep 940, change in cost 0.0793762\n"
     ]
    },
    {
     "name": "stdout",
     "output_type": "stream",
     "text": [
      "step 950, training accuracy 0.580273\nstep 950, cost 233.841\nstep 950, change in cost 0.0791626\n"
     ]
    },
    {
     "name": "stdout",
     "output_type": "stream",
     "text": [
      "step 960, training accuracy 0.581322\nstep 960, cost 233.762\nstep 960, change in cost 0.079361\n"
     ]
    },
    {
     "name": "stdout",
     "output_type": "stream",
     "text": [
      "step 970, training accuracy 0.582371\nstep 970, cost 233.683\nstep 970, change in cost 0.0792084\n"
     ]
    },
    {
     "name": "stdout",
     "output_type": "stream",
     "text": [
      "step 980, training accuracy 0.582371\nstep 980, cost 233.603\nstep 980, change in cost 0.0791931\n"
     ]
    },
    {
     "name": "stdout",
     "output_type": "stream",
     "text": [
      "step 990, training accuracy 0.582371\nstep 990, cost 233.524\nstep 990, change in cost 0.0790558\n"
     ]
    },
    {
     "name": "stdout",
     "output_type": "stream",
     "text": [
      "step 1000, training accuracy 0.582371\nstep 1000, cost 233.445\nstep 1000, change in cost 0.0790863\n"
     ]
    },
    {
     "name": "stdout",
     "output_type": "stream",
     "text": [
      "step 1010, training accuracy 0.582371\nstep 1010, cost 233.366\nstep 1010, change in cost 0.0791016\n"
     ]
    },
    {
     "name": "stdout",
     "output_type": "stream",
     "text": [
      "step 1020, training accuracy 0.582371\nstep 1020, cost 233.287\nstep 1020, change in cost 0.0790558\n"
     ]
    },
    {
     "name": "stdout",
     "output_type": "stream",
     "text": [
      "step 1030, training accuracy 0.582371\nstep 1030, cost 233.208\nstep 1030, change in cost 0.0789185\n"
     ]
    },
    {
     "name": "stdout",
     "output_type": "stream",
     "text": [
      "step 1040, training accuracy 0.582371\nstep 1040, cost 233.129\nstep 1040, change in cost 0.0789795\n"
     ]
    },
    {
     "name": "stdout",
     "output_type": "stream",
     "text": [
      "step 1050, training accuracy 0.582371\nstep 1050, cost 233.05\nstep 1050, change in cost 0.0788727\n"
     ]
    },
    {
     "name": "stdout",
     "output_type": "stream",
     "text": [
      "step 1060, training accuracy 0.582371\nstep 1060, cost 232.972\nstep 1060, change in cost 0.0788116\n"
     ]
    },
    {
     "name": "stdout",
     "output_type": "stream",
     "text": [
      "step 1070, training accuracy 0.582371\nstep 1070, cost 232.893\nstep 1070, change in cost 0.0787811\n"
     ]
    },
    {
     "name": "stdout",
     "output_type": "stream",
     "text": [
      "step 1080, training accuracy 0.582371\nstep 1080, cost 232.814\nstep 1080, change in cost 0.0787659\n"
     ]
    },
    {
     "name": "stdout",
     "output_type": "stream",
     "text": [
      "step 1090, training accuracy 0.582371\nstep 1090, cost 232.735\nstep 1090, change in cost 0.0787048\n"
     ]
    },
    {
     "name": "stdout",
     "output_type": "stream",
     "text": [
      "step 1100, training accuracy 0.582371\nstep 1100, cost 232.657\nstep 1100, change in cost 0.0786743\n"
     ]
    },
    {
     "name": "stdout",
     "output_type": "stream",
     "text": [
      "step 1110, training accuracy 0.582371\nstep 1110, cost 232.578\nstep 1110, change in cost 0.0786896\n"
     ]
    },
    {
     "name": "stdout",
     "output_type": "stream",
     "text": [
      "step 1120, training accuracy 0.582371\nstep 1120, cost 232.499\nstep 1120, change in cost 0.0785217\n"
     ]
    },
    {
     "name": "stdout",
     "output_type": "stream",
     "text": [
      "step 1130, training accuracy 0.582371\nstep 1130, cost 232.421\nstep 1130, change in cost 0.078537\n"
     ]
    },
    {
     "name": "stdout",
     "output_type": "stream",
     "text": [
      "step 1140, training accuracy 0.582371\nstep 1140, cost 232.342\nstep 1140, change in cost 0.0784912\n"
     ]
    },
    {
     "name": "stdout",
     "output_type": "stream",
     "text": [
      "step 1150, training accuracy 0.582371\nstep 1150, cost 232.264\nstep 1150, change in cost 0.078476\n"
     ]
    },
    {
     "name": "stdout",
     "output_type": "stream",
     "text": [
      "step 1160, training accuracy 0.583421\nstep 1160, cost 232.186\nstep 1160, change in cost 0.0783997\n"
     ]
    },
    {
     "name": "stdout",
     "output_type": "stream",
     "text": [
      "step 1170, training accuracy 0.58447\nstep 1170, cost 232.107\nstep 1170, change in cost 0.0783386\n"
     ]
    },
    {
     "name": "stdout",
     "output_type": "stream",
     "text": [
      "step 1180, training accuracy 0.58447\nstep 1180, cost 232.029\nstep 1180, change in cost 0.078476\n"
     ]
    },
    {
     "name": "stdout",
     "output_type": "stream",
     "text": [
      "step 1190, training accuracy 0.586569\nstep 1190, cost 231.951\nstep 1190, change in cost 0.0782166\n"
     ]
    },
    {
     "name": "stdout",
     "output_type": "stream",
     "text": [
      "step 1200, training accuracy 0.587618\nstep 1200, cost 231.872\nstep 1200, change in cost 0.0782623\n"
     ]
    },
    {
     "name": "stdout",
     "output_type": "stream",
     "text": [
      "step 1210, training accuracy 0.588667\nstep 1210, cost 231.794\nstep 1210, change in cost 0.0781708\n"
     ]
    },
    {
     "name": "stdout",
     "output_type": "stream",
     "text": [
      "step 1220, training accuracy 0.588667\nstep 1220, cost 231.716\nstep 1220, change in cost 0.0782471\n"
     ]
    },
    {
     "name": "stdout",
     "output_type": "stream",
     "text": [
      "step 1230, training accuracy 0.588667\nstep 1230, cost 231.638\nstep 1230, change in cost 0.0780792\n"
     ]
    },
    {
     "name": "stdout",
     "output_type": "stream",
     "text": [
      "step 1240, training accuracy 0.588667\nstep 1240, cost 231.56\nstep 1240, change in cost 0.078064\n"
     ]
    },
    {
     "name": "stdout",
     "output_type": "stream",
     "text": [
      "step 1250, training accuracy 0.588667\nstep 1250, cost 231.482\nstep 1250, change in cost 0.078125\n"
     ]
    },
    {
     "name": "stdout",
     "output_type": "stream",
     "text": [
      "step 1260, training accuracy 0.589717\nstep 1260, cost 231.404\nstep 1260, change in cost 0.0778961\n"
     ]
    },
    {
     "name": "stdout",
     "output_type": "stream",
     "text": [
      "step 1270, training accuracy 0.589717\nstep 1270, cost 231.326\nstep 1270, change in cost 0.0779419\n"
     ]
    },
    {
     "name": "stdout",
     "output_type": "stream",
     "text": [
      "step 1280, training accuracy 0.589717\nstep 1280, cost 231.248\nstep 1280, change in cost 0.0778961\n"
     ]
    },
    {
     "name": "stdout",
     "output_type": "stream",
     "text": [
      "step 1290, training accuracy 0.589717\nstep 1290, cost 231.17\nstep 1290, change in cost 0.0778809\n"
     ]
    },
    {
     "name": "stdout",
     "output_type": "stream",
     "text": [
      "step 1300, training accuracy 0.589717\nstep 1300, cost 231.092\nstep 1300, change in cost 0.0778046\n"
     ]
    },
    {
     "name": "stdout",
     "output_type": "stream",
     "text": [
      "step 1310, training accuracy 0.589717\nstep 1310, cost 231.014\nstep 1310, change in cost 0.0778351\n"
     ]
    },
    {
     "name": "stdout",
     "output_type": "stream",
     "text": [
      "step 1320, training accuracy 0.589717\nstep 1320, cost 230.937\nstep 1320, change in cost 0.0777283\n"
     ]
    },
    {
     "name": "stdout",
     "output_type": "stream",
     "text": [
      "step 1330, training accuracy 0.591815\nstep 1330, cost 230.859\nstep 1330, change in cost 0.0776825\n"
     ]
    },
    {
     "name": "stdout",
     "output_type": "stream",
     "text": [
      "step 1340, training accuracy 0.592865\nstep 1340, cost 230.781\nstep 1340, change in cost 0.0775909\n"
     ]
    },
    {
     "name": "stdout",
     "output_type": "stream",
     "text": [
      "step 1350, training accuracy 0.592865\nstep 1350, cost 230.704\nstep 1350, change in cost 0.0776672\n"
     ]
    },
    {
     "name": "stdout",
     "output_type": "stream",
     "text": [
      "step 1360, training accuracy 0.593914\nstep 1360, cost 230.626\nstep 1360, change in cost 0.0775909\n"
     ]
    },
    {
     "name": "stdout",
     "output_type": "stream",
     "text": [
      "step 1370, training accuracy 0.593914\nstep 1370, cost 230.549\nstep 1370, change in cost 0.0775299\n"
     ]
    },
    {
     "name": "stdout",
     "output_type": "stream",
     "text": [
      "step 1380, training accuracy 0.593914\nstep 1380, cost 230.471\nstep 1380, change in cost 0.0774078\n"
     ]
    },
    {
     "name": "stdout",
     "output_type": "stream",
     "text": [
      "step 1390, training accuracy 0.593914\nstep 1390, cost 230.394\nstep 1390, change in cost 0.0774841\n"
     ]
    },
    {
     "name": "stdout",
     "output_type": "stream",
     "text": [
      "step 1400, training accuracy 0.594963\nstep 1400, cost 230.316\nstep 1400, change in cost 0.0774231\n"
     ]
    },
    {
     "name": "stdout",
     "output_type": "stream",
     "text": [
      "step 1410, training accuracy 0.596013\nstep 1410, cost 230.239\nstep 1410, change in cost 0.0772858\n"
     ]
    },
    {
     "name": "stdout",
     "output_type": "stream",
     "text": [
      "step 1420, training accuracy 0.597062\nstep 1420, cost 230.162\nstep 1420, change in cost 0.0773621\n"
     ]
    },
    {
     "name": "stdout",
     "output_type": "stream",
     "text": [
      "step 1430, training accuracy 0.598111\nstep 1430, cost 230.084\nstep 1430, change in cost 0.0771942\n"
     ]
    },
    {
     "name": "stdout",
     "output_type": "stream",
     "text": [
      "step 1440, training accuracy 0.599161\nstep 1440, cost 230.007\nstep 1440, change in cost 0.0772705\n"
     ]
    },
    {
     "name": "stdout",
     "output_type": "stream",
     "text": [
      "step 1450, training accuracy 0.599161\nstep 1450, cost 229.93\nstep 1450, change in cost 0.0771942\n"
     ]
    },
    {
     "name": "stdout",
     "output_type": "stream",
     "text": [
      "step 1460, training accuracy 0.599161\nstep 1460, cost 229.853\nstep 1460, change in cost 0.0772095\n"
     ]
    },
    {
     "name": "stdout",
     "output_type": "stream",
     "text": [
      "step 1470, training accuracy 0.599161\nstep 1470, cost 229.776\nstep 1470, change in cost 0.0770569\n"
     ]
    },
    {
     "name": "stdout",
     "output_type": "stream",
     "text": [
      "step 1480, training accuracy 0.599161\nstep 1480, cost 229.699\nstep 1480, change in cost 0.0769958\n"
     ]
    },
    {
     "name": "stdout",
     "output_type": "stream",
     "text": [
      "step 1490, training accuracy 0.60021\nstep 1490, cost 229.622\nstep 1490, change in cost 0.0771027\n"
     ]
    },
    {
     "name": "stdout",
     "output_type": "stream",
     "text": [
      "step 1500, training accuracy 0.60021\nstep 1500, cost 229.545\nstep 1500, change in cost 0.0769653\n"
     ]
    },
    {
     "name": "stdout",
     "output_type": "stream",
     "text": [
      "step 1510, training accuracy 0.60021\nstep 1510, cost 229.468\nstep 1510, change in cost 0.0768738\n"
     ]
    },
    {
     "name": "stdout",
     "output_type": "stream",
     "text": [
      "step 1520, training accuracy 0.601259\nstep 1520, cost 229.391\nstep 1520, change in cost 0.0769043\n"
     ]
    },
    {
     "name": "stdout",
     "output_type": "stream",
     "text": [
      "step 1530, training accuracy 0.602309\nstep 1530, cost 229.314\nstep 1530, change in cost 0.0769348\n"
     ]
    },
    {
     "name": "stdout",
     "output_type": "stream",
     "text": [
      "step 1540, training accuracy 0.602309\nstep 1540, cost 229.237\nstep 1540, change in cost 0.0766754\n"
     ]
    },
    {
     "name": "stdout",
     "output_type": "stream",
     "text": [
      "step 1550, training accuracy 0.603358\nstep 1550, cost 229.16\nstep 1550, change in cost 0.0767517\n"
     ]
    },
    {
     "name": "stdout",
     "output_type": "stream",
     "text": [
      "step 1560, training accuracy 0.603358\nstep 1560, cost 229.084\nstep 1560, change in cost 0.0767975\n"
     ]
    },
    {
     "name": "stdout",
     "output_type": "stream",
     "text": [
      "step 1570, training accuracy 0.606506\nstep 1570, cost 229.007\nstep 1570, change in cost 0.0766296\n"
     ]
    },
    {
     "name": "stdout",
     "output_type": "stream",
     "text": [
      "step 1580, training accuracy 0.606506\nstep 1580, cost 228.93\nstep 1580, change in cost 0.0766144\n"
     ]
    },
    {
     "name": "stdout",
     "output_type": "stream",
     "text": [
      "step 1590, training accuracy 0.606506\nstep 1590, cost 228.854\nstep 1590, change in cost 0.0765686\n"
     ]
    },
    {
     "name": "stdout",
     "output_type": "stream",
     "text": [
      "step 1600, training accuracy 0.607555\nstep 1600, cost 228.777\nstep 1600, change in cost 0.0765686\n"
     ]
    },
    {
     "name": "stdout",
     "output_type": "stream",
     "text": [
      "step 1610, training accuracy 0.607555\nstep 1610, cost 228.701\nstep 1610, change in cost 0.0764618\n"
     ]
    },
    {
     "name": "stdout",
     "output_type": "stream",
     "text": [
      "step 1620, training accuracy 0.607555\nstep 1620, cost 228.624\nstep 1620, change in cost 0.0765076\n"
     ]
    },
    {
     "name": "stdout",
     "output_type": "stream",
     "text": [
      "step 1630, training accuracy 0.608604\nstep 1630, cost 228.548\nstep 1630, change in cost 0.0764313\n"
     ]
    },
    {
     "name": "stdout",
     "output_type": "stream",
     "text": [
      "step 1640, training accuracy 0.610703\nstep 1640, cost 228.471\nstep 1640, change in cost 0.0763397\n"
     ]
    },
    {
     "name": "stdout",
     "output_type": "stream",
     "text": [
      "step 1650, training accuracy 0.610703\nstep 1650, cost 228.395\nstep 1650, change in cost 0.0763397\n"
     ]
    },
    {
     "name": "stdout",
     "output_type": "stream",
     "text": [
      "step 1660, training accuracy 0.612802\nstep 1660, cost 228.319\nstep 1660, change in cost 0.0762634\n"
     ]
    },
    {
     "name": "stdout",
     "output_type": "stream",
     "text": [
      "step 1670, training accuracy 0.61595\nstep 1670, cost 228.243\nstep 1670, change in cost 0.0762634\n"
     ]
    },
    {
     "name": "stdout",
     "output_type": "stream",
     "text": [
      "step 1680, training accuracy 0.61595\nstep 1680, cost 228.166\nstep 1680, change in cost 0.0762482\n"
     ]
    },
    {
     "name": "stdout",
     "output_type": "stream",
     "text": [
      "step 1690, training accuracy 0.616999\nstep 1690, cost 228.09\nstep 1690, change in cost 0.0761566\n"
     ]
    },
    {
     "name": "stdout",
     "output_type": "stream",
     "text": [
      "step 1700, training accuracy 0.618048\nstep 1700, cost 228.014\nstep 1700, change in cost 0.0760345\n"
     ]
    },
    {
     "name": "stdout",
     "output_type": "stream",
     "text": [
      "step 1710, training accuracy 0.618048\nstep 1710, cost 227.938\nstep 1710, change in cost 0.0760193\n"
     ]
    },
    {
     "name": "stdout",
     "output_type": "stream",
     "text": [
      "step 1720, training accuracy 0.618048\nstep 1720, cost 227.862\nstep 1720, change in cost 0.0761414\n"
     ]
    },
    {
     "name": "stdout",
     "output_type": "stream",
     "text": [
      "step 1730, training accuracy 0.619098\nstep 1730, cost 227.786\nstep 1730, change in cost 0.0759583\n"
     ]
    },
    {
     "name": "stdout",
     "output_type": "stream",
     "text": [
      "step 1740, training accuracy 0.619098\nstep 1740, cost 227.71\nstep 1740, change in cost 0.0759735\n"
     ]
    },
    {
     "name": "stdout",
     "output_type": "stream",
     "text": [
      "step 1750, training accuracy 0.619098\nstep 1750, cost 227.634\nstep 1750, change in cost 0.0758667\n"
     ]
    },
    {
     "name": "stdout",
     "output_type": "stream",
     "text": [
      "step 1760, training accuracy 0.620147\nstep 1760, cost 227.558\nstep 1760, change in cost 0.0758972\n"
     ]
    },
    {
     "name": "stdout",
     "output_type": "stream",
     "text": [
      "step 1770, training accuracy 0.621196\nstep 1770, cost 227.483\nstep 1770, change in cost 0.0758057\n"
     ]
    },
    {
     "name": "stdout",
     "output_type": "stream",
     "text": [
      "step 1780, training accuracy 0.622246\nstep 1780, cost 227.407\nstep 1780, change in cost 0.0757446\n"
     ]
    },
    {
     "name": "stdout",
     "output_type": "stream",
     "text": [
      "step 1790, training accuracy 0.622246\nstep 1790, cost 227.331\nstep 1790, change in cost 0.0757446\n"
     ]
    },
    {
     "name": "stdout",
     "output_type": "stream",
     "text": [
      "step 1800, training accuracy 0.625394\nstep 1800, cost 227.255\nstep 1800, change in cost 0.0756683\n"
     ]
    },
    {
     "name": "stdout",
     "output_type": "stream",
     "text": [
      "step 1810, training accuracy 0.626443\nstep 1810, cost 227.18\nstep 1810, change in cost 0.0756531\n"
     ]
    },
    {
     "name": "stdout",
     "output_type": "stream",
     "text": [
      "step 1820, training accuracy 0.627492\nstep 1820, cost 227.104\nstep 1820, change in cost 0.0755463\n"
     ]
    },
    {
     "name": "stdout",
     "output_type": "stream",
     "text": [
      "step 1830, training accuracy 0.629591\nstep 1830, cost 227.029\nstep 1830, change in cost 0.0756531\n"
     ]
    },
    {
     "name": "stdout",
     "output_type": "stream",
     "text": [
      "step 1840, training accuracy 0.63064\nstep 1840, cost 226.953\nstep 1840, change in cost 0.0755463\n"
     ]
    },
    {
     "name": "stdout",
     "output_type": "stream",
     "text": [
      "step 1850, training accuracy 0.63064\nstep 1850, cost 226.878\nstep 1850, change in cost 0.0753937\n"
     ]
    },
    {
     "name": "stdout",
     "output_type": "stream",
     "text": [
      "step 1860, training accuracy 0.632739\nstep 1860, cost 226.802\nstep 1860, change in cost 0.0754547\n"
     ]
    },
    {
     "name": "stdout",
     "output_type": "stream",
     "text": [
      "step 1870, training accuracy 0.632739\nstep 1870, cost 226.727\nstep 1870, change in cost 0.0753479\n"
     ]
    },
    {
     "name": "stdout",
     "output_type": "stream",
     "text": [
      "step 1880, training accuracy 0.632739\nstep 1880, cost 226.651\nstep 1880, change in cost 0.0753174\n"
     ]
    },
    {
     "name": "stdout",
     "output_type": "stream",
     "text": [
      "step 1890, training accuracy 0.632739\nstep 1890, cost 226.576\nstep 1890, change in cost 0.0752869\n"
     ]
    },
    {
     "name": "stdout",
     "output_type": "stream",
     "text": [
      "step 1900, training accuracy 0.632739\nstep 1900, cost 226.501\nstep 1900, change in cost 0.0753326\n"
     ]
    },
    {
     "name": "stdout",
     "output_type": "stream",
     "text": [
      "step 1910, training accuracy 0.633788\nstep 1910, cost 226.426\nstep 1910, change in cost 0.0751648\n"
     ]
    },
    {
     "name": "stdout",
     "output_type": "stream",
     "text": [
      "step 1920, training accuracy 0.633788\nstep 1920, cost 226.35\nstep 1920, change in cost 0.0752411\n"
     ]
    },
    {
     "name": "stdout",
     "output_type": "stream",
     "text": [
      "step 1930, training accuracy 0.633788\nstep 1930, cost 226.275\nstep 1930, change in cost 0.0751038\n"
     ]
    },
    {
     "name": "stdout",
     "output_type": "stream",
     "text": [
      "step 1940, training accuracy 0.633788\nstep 1940, cost 226.2\nstep 1940, change in cost 0.0750732\n"
     ]
    },
    {
     "name": "stdout",
     "output_type": "stream",
     "text": [
      "step 1950, training accuracy 0.634837\nstep 1950, cost 226.125\nstep 1950, change in cost 0.0750122\n"
     ]
    },
    {
     "name": "stdout",
     "output_type": "stream",
     "text": [
      "step 1960, training accuracy 0.635887\nstep 1960, cost 226.05\nstep 1960, change in cost 0.0750427\n"
     ]
    },
    {
     "name": "stdout",
     "output_type": "stream",
     "text": [
      "step 1970, training accuracy 0.639035\nstep 1970, cost 225.975\nstep 1970, change in cost 0.0749207\n"
     ]
    },
    {
     "name": "stdout",
     "output_type": "stream",
     "text": [
      "step 1980, training accuracy 0.640084\nstep 1980, cost 225.9\nstep 1980, change in cost 0.0749207\n"
     ]
    },
    {
     "name": "stdout",
     "output_type": "stream",
     "text": [
      "step 1990, training accuracy 0.640084\nstep 1990, cost 225.825\nstep 1990, change in cost 0.0748749\n"
     ]
    },
    {
     "name": "stdout",
     "output_type": "stream",
     "text": [
      "step 2000, training accuracy 0.641133\nstep 2000, cost 225.751\nstep 2000, change in cost 0.0748596\n"
     ]
    },
    {
     "name": "stdout",
     "output_type": "stream",
     "text": [
      "step 2010, training accuracy 0.641133\nstep 2010, cost 225.676\nstep 2010, change in cost 0.0747528\n"
     ]
    },
    {
     "name": "stdout",
     "output_type": "stream",
     "text": [
      "step 2020, training accuracy 0.645331\nstep 2020, cost 225.601\nstep 2020, change in cost 0.0746918\n"
     ]
    },
    {
     "name": "stdout",
     "output_type": "stream",
     "text": [
      "step 2030, training accuracy 0.647429\nstep 2030, cost 225.526\nstep 2030, change in cost 0.0747833\n"
     ]
    },
    {
     "name": "stdout",
     "output_type": "stream",
     "text": [
      "step 2040, training accuracy 0.648479\nstep 2040, cost 225.452\nstep 2040, change in cost 0.074585\n"
     ]
    },
    {
     "name": "stdout",
     "output_type": "stream",
     "text": [
      "step 2050, training accuracy 0.648479\nstep 2050, cost 225.377\nstep 2050, change in cost 0.0746307\n"
     ]
    },
    {
     "name": "stdout",
     "output_type": "stream",
     "text": [
      "step 2060, training accuracy 0.649528\nstep 2060, cost 225.303\nstep 2060, change in cost 0.074585\n"
     ]
    },
    {
     "name": "stdout",
     "output_type": "stream",
     "text": [
      "step 2070, training accuracy 0.649528\nstep 2070, cost 225.228\nstep 2070, change in cost 0.0745087\n"
     ]
    },
    {
     "name": "stdout",
     "output_type": "stream",
     "text": [
      "step 2080, training accuracy 0.649528\nstep 2080, cost 225.154\nstep 2080, change in cost 0.0744934\n"
     ]
    },
    {
     "name": "stdout",
     "output_type": "stream",
     "text": [
      "step 2090, training accuracy 0.649528\nstep 2090, cost 225.079\nstep 2090, change in cost 0.0744476\n"
     ]
    },
    {
     "name": "stdout",
     "output_type": "stream",
     "text": [
      "step 2100, training accuracy 0.649528\nstep 2100, cost 225.005\nstep 2100, change in cost 0.0743866\n"
     ]
    },
    {
     "name": "stdout",
     "output_type": "stream",
     "text": [
      "step 2110, training accuracy 0.651626\nstep 2110, cost 224.93\nstep 2110, change in cost 0.0743408\n"
     ]
    },
    {
     "name": "stdout",
     "output_type": "stream",
     "text": [
      "step 2120, training accuracy 0.652676\nstep 2120, cost 224.856\nstep 2120, change in cost 0.0743866\n"
     ]
    },
    {
     "name": "stdout",
     "output_type": "stream",
     "text": [
      "step 2130, training accuracy 0.653725\nstep 2130, cost 224.782\nstep 2130, change in cost 0.074173\n"
     ]
    },
    {
     "name": "stdout",
     "output_type": "stream",
     "text": [
      "step 2140, training accuracy 0.655824\nstep 2140, cost 224.708\nstep 2140, change in cost 0.0742493\n"
     ]
    },
    {
     "name": "stdout",
     "output_type": "stream",
     "text": [
      "step 2150, training accuracy 0.656873\nstep 2150, cost 224.633\nstep 2150, change in cost 0.0742645\n"
     ]
    },
    {
     "name": "stdout",
     "output_type": "stream",
     "text": [
      "step 2160, training accuracy 0.657922\nstep 2160, cost 224.559\nstep 2160, change in cost 0.0741272\n"
     ]
    },
    {
     "name": "stdout",
     "output_type": "stream",
     "text": [
      "step 2170, training accuracy 0.656873\nstep 2170, cost 224.485\nstep 2170, change in cost 0.0740204\n"
     ]
    },
    {
     "name": "stdout",
     "output_type": "stream",
     "text": [
      "step 2180, training accuracy 0.656873\nstep 2180, cost 224.411\nstep 2180, change in cost 0.0740662\n"
     ]
    },
    {
     "name": "stdout",
     "output_type": "stream",
     "text": [
      "step 2190, training accuracy 0.656873\nstep 2190, cost 224.337\nstep 2190, change in cost 0.0740204\n"
     ]
    },
    {
     "name": "stdout",
     "output_type": "stream",
     "text": [
      "step 2200, training accuracy 0.658972\nstep 2200, cost 224.263\nstep 2200, change in cost 0.0740051\n"
     ]
    },
    {
     "name": "stdout",
     "output_type": "stream",
     "text": [
      "step 2210, training accuracy 0.658972\nstep 2210, cost 224.189\nstep 2210, change in cost 0.0739594\n"
     ]
    },
    {
     "name": "stdout",
     "output_type": "stream",
     "text": [
      "step 2220, training accuracy 0.658972\nstep 2220, cost 224.115\nstep 2220, change in cost 0.0737457\n"
     ]
    },
    {
     "name": "stdout",
     "output_type": "stream",
     "text": [
      "step 2230, training accuracy 0.658972\nstep 2230, cost 224.042\nstep 2230, change in cost 0.0738983\n"
     ]
    },
    {
     "name": "stdout",
     "output_type": "stream",
     "text": [
      "step 2240, training accuracy 0.660021\nstep 2240, cost 223.968\nstep 2240, change in cost 0.0738373\n"
     ]
    },
    {
     "name": "stdout",
     "output_type": "stream",
     "text": [
      "step 2250, training accuracy 0.660021\nstep 2250, cost 223.894\nstep 2250, change in cost 0.0737457\n"
     ]
    },
    {
     "name": "stdout",
     "output_type": "stream",
     "text": [
      "step 2260, training accuracy 0.660021\nstep 2260, cost 223.82\nstep 2260, change in cost 0.073761\n"
     ]
    },
    {
     "name": "stdout",
     "output_type": "stream",
     "text": [
      "step 2270, training accuracy 0.660021\nstep 2270, cost 223.747\nstep 2270, change in cost 0.0736237\n"
     ]
    },
    {
     "name": "stdout",
     "output_type": "stream",
     "text": [
      "step 2280, training accuracy 0.660021\nstep 2280, cost 223.673\nstep 2280, change in cost 0.0736389\n"
     ]
    },
    {
     "name": "stdout",
     "output_type": "stream",
     "text": [
      "step 2290, training accuracy 0.660021\nstep 2290, cost 223.599\nstep 2290, change in cost 0.0735626\n"
     ]
    },
    {
     "name": "stdout",
     "output_type": "stream",
     "text": [
      "step 2300, training accuracy 0.66107\nstep 2300, cost 223.526\nstep 2300, change in cost 0.0735474\n"
     ]
    },
    {
     "name": "stdout",
     "output_type": "stream",
     "text": [
      "step 2310, training accuracy 0.66212\nstep 2310, cost 223.452\nstep 2310, change in cost 0.07341\n"
     ]
    },
    {
     "name": "stdout",
     "output_type": "stream",
     "text": [
      "step 2320, training accuracy 0.66212\nstep 2320, cost 223.379\nstep 2320, change in cost 0.0735779\n"
     ]
    },
    {
     "name": "stdout",
     "output_type": "stream",
     "text": [
      "step 2330, training accuracy 0.66212\nstep 2330, cost 223.305\nstep 2330, change in cost 0.07341\n"
     ]
    },
    {
     "name": "stdout",
     "output_type": "stream",
     "text": [
      "step 2340, training accuracy 0.663169\nstep 2340, cost 223.232\nstep 2340, change in cost 0.0732727\n"
     ]
    },
    {
     "name": "stdout",
     "output_type": "stream",
     "text": [
      "step 2350, training accuracy 0.664218\nstep 2350, cost 223.159\nstep 2350, change in cost 0.0733643\n"
     ]
    },
    {
     "name": "stdout",
     "output_type": "stream",
     "text": [
      "step 2360, training accuracy 0.664218\nstep 2360, cost 223.085\nstep 2360, change in cost 0.073349\n"
     ]
    },
    {
     "name": "stdout",
     "output_type": "stream",
     "text": [
      "step 2370, training accuracy 0.664218\nstep 2370, cost 223.012\nstep 2370, change in cost 0.0731812\n"
     ]
    },
    {
     "name": "stdout",
     "output_type": "stream",
     "text": [
      "step 2380, training accuracy 0.665268\nstep 2380, cost 222.939\nstep 2380, change in cost 0.0731964\n"
     ]
    },
    {
     "name": "stdout",
     "output_type": "stream",
     "text": [
      "step 2390, training accuracy 0.666317\nstep 2390, cost 222.866\nstep 2390, change in cost 0.0731659\n"
     ]
    },
    {
     "name": "stdout",
     "output_type": "stream",
     "text": [
      "step 2400, training accuracy 0.668416\nstep 2400, cost 222.793\nstep 2400, change in cost 0.0731201\n"
     ]
    },
    {
     "name": "stdout",
     "output_type": "stream",
     "text": [
      "step 2410, training accuracy 0.669465\nstep 2410, cost 222.72\nstep 2410, change in cost 0.0730896\n"
     ]
    },
    {
     "name": "stdout",
     "output_type": "stream",
     "text": [
      "step 2420, training accuracy 0.669465\nstep 2420, cost 222.647\nstep 2420, change in cost 0.0730133\n"
     ]
    },
    {
     "name": "stdout",
     "output_type": "stream",
     "text": [
      "step 2430, training accuracy 0.671564\nstep 2430, cost 222.574\nstep 2430, change in cost 0.0729675\n"
     ]
    },
    {
     "name": "stdout",
     "output_type": "stream",
     "text": [
      "step 2440, training accuracy 0.672613\nstep 2440, cost 222.501\nstep 2440, change in cost 0.0728912\n"
     ]
    },
    {
     "name": "stdout",
     "output_type": "stream",
     "text": [
      "step 2450, training accuracy 0.672613\nstep 2450, cost 222.428\nstep 2450, change in cost 0.072937\n"
     ]
    },
    {
     "name": "stdout",
     "output_type": "stream",
     "text": [
      "step 2460, training accuracy 0.673662\nstep 2460, cost 222.355\nstep 2460, change in cost 0.0728607\n"
     ]
    },
    {
     "name": "stdout",
     "output_type": "stream",
     "text": [
      "step 2470, training accuracy 0.673662\nstep 2470, cost 222.282\nstep 2470, change in cost 0.0728607\n"
     ]
    },
    {
     "name": "stdout",
     "output_type": "stream",
     "text": [
      "step 2480, training accuracy 0.675761\nstep 2480, cost 222.209\nstep 2480, change in cost 0.0726929\n"
     ]
    },
    {
     "name": "stdout",
     "output_type": "stream",
     "text": [
      "step 2490, training accuracy 0.678909\nstep 2490, cost 222.137\nstep 2490, change in cost 0.0727539\n"
     ]
    },
    {
     "name": "stdout",
     "output_type": "stream",
     "text": [
      "step 2500, training accuracy 0.679958\nstep 2500, cost 222.064\nstep 2500, change in cost 0.0726776\n"
     ]
    },
    {
     "name": "stdout",
     "output_type": "stream",
     "text": [
      "step 2510, training accuracy 0.681007\nstep 2510, cost 221.991\nstep 2510, change in cost 0.0726166\n"
     ]
    },
    {
     "name": "stdout",
     "output_type": "stream",
     "text": [
      "step 2520, training accuracy 0.682057\nstep 2520, cost 221.919\nstep 2520, change in cost 0.0725861\n"
     ]
    },
    {
     "name": "stdout",
     "output_type": "stream",
     "text": [
      "step 2530, training accuracy 0.683106\nstep 2530, cost 221.846\nstep 2530, change in cost 0.0725403\n"
     ]
    },
    {
     "name": "stdout",
     "output_type": "stream",
     "text": [
      "step 2540, training accuracy 0.683106\nstep 2540, cost 221.774\nstep 2540, change in cost 0.0724945\n"
     ]
    },
    {
     "name": "stdout",
     "output_type": "stream",
     "text": [
      "step 2550, training accuracy 0.683106\nstep 2550, cost 221.701\nstep 2550, change in cost 0.0724487\n"
     ]
    },
    {
     "name": "stdout",
     "output_type": "stream",
     "text": [
      "step 2560, training accuracy 0.683106\nstep 2560, cost 221.629\nstep 2560, change in cost 0.0724182\n"
     ]
    },
    {
     "name": "stdout",
     "output_type": "stream",
     "text": [
      "step 2570, training accuracy 0.683106\nstep 2570, cost 221.556\nstep 2570, change in cost 0.0724792\n"
     ]
    },
    {
     "name": "stdout",
     "output_type": "stream",
     "text": [
      "step 2580, training accuracy 0.683106\nstep 2580, cost 221.484\nstep 2580, change in cost 0.0722809\n"
     ]
    },
    {
     "name": "stdout",
     "output_type": "stream",
     "text": [
      "step 2590, training accuracy 0.684155\nstep 2590, cost 221.412\nstep 2590, change in cost 0.0723267\n"
     ]
    },
    {
     "name": "stdout",
     "output_type": "stream",
     "text": [
      "step 2600, training accuracy 0.685205\nstep 2600, cost 221.34\nstep 2600, change in cost 0.0722656\n"
     ]
    },
    {
     "name": "stdout",
     "output_type": "stream",
     "text": [
      "step 2610, training accuracy 0.685205\nstep 2610, cost 221.267\nstep 2610, change in cost 0.0721893\n"
     ]
    },
    {
     "name": "stdout",
     "output_type": "stream",
     "text": [
      "step 2620, training accuracy 0.689402\nstep 2620, cost 221.195\nstep 2620, change in cost 0.0721893\n"
     ]
    },
    {
     "name": "stdout",
     "output_type": "stream",
     "text": [
      "step 2630, training accuracy 0.689402\nstep 2630, cost 221.123\nstep 2630, change in cost 0.0721283\n"
     ]
    },
    {
     "name": "stdout",
     "output_type": "stream",
     "text": [
      "step 2640, training accuracy 0.689402\nstep 2640, cost 221.051\nstep 2640, change in cost 0.072052\n"
     ]
    },
    {
     "name": "stdout",
     "output_type": "stream",
     "text": [
      "step 2650, training accuracy 0.689402\nstep 2650, cost 220.979\nstep 2650, change in cost 0.072052\n"
     ]
    },
    {
     "name": "stdout",
     "output_type": "stream",
     "text": [
      "step 2660, training accuracy 0.689402\nstep 2660, cost 220.907\nstep 2660, change in cost 0.0720367\n"
     ]
    },
    {
     "name": "stdout",
     "output_type": "stream",
     "text": [
      "step 2670, training accuracy 0.689402\nstep 2670, cost 220.835\nstep 2670, change in cost 0.0719299\n"
     ]
    },
    {
     "name": "stdout",
     "output_type": "stream",
     "text": [
      "step 2680, training accuracy 0.690451\nstep 2680, cost 220.763\nstep 2680, change in cost 0.0719452\n"
     ]
    },
    {
     "name": "stdout",
     "output_type": "stream",
     "text": [
      "step 2690, training accuracy 0.689402\nstep 2690, cost 220.691\nstep 2690, change in cost 0.0718689\n"
     ]
    },
    {
     "name": "stdout",
     "output_type": "stream",
     "text": [
      "step 2700, training accuracy 0.689402\nstep 2700, cost 220.619\nstep 2700, change in cost 0.0718079\n"
     ]
    },
    {
     "name": "stdout",
     "output_type": "stream",
     "text": [
      "step 2710, training accuracy 0.690451\nstep 2710, cost 220.548\nstep 2710, change in cost 0.0717316\n"
     ]
    },
    {
     "name": "stdout",
     "output_type": "stream",
     "text": [
      "step 2720, training accuracy 0.690451\nstep 2720, cost 220.476\nstep 2720, change in cost 0.0717926\n"
     ]
    },
    {
     "name": "stdout",
     "output_type": "stream",
     "text": [
      "step 2730, training accuracy 0.69255\nstep 2730, cost 220.404\nstep 2730, change in cost 0.0717468\n"
     ]
    },
    {
     "name": "stdout",
     "output_type": "stream",
     "text": [
      "step 2740, training accuracy 0.694649\nstep 2740, cost 220.332\nstep 2740, change in cost 0.0716248\n"
     ]
    },
    {
     "name": "stdout",
     "output_type": "stream",
     "text": [
      "step 2750, training accuracy 0.695698\nstep 2750, cost 220.261\nstep 2750, change in cost 0.0715942\n"
     ]
    },
    {
     "name": "stdout",
     "output_type": "stream",
     "text": [
      "step 2760, training accuracy 0.695698\nstep 2760, cost 220.189\nstep 2760, change in cost 0.0715637\n"
     ]
    },
    {
     "name": "stdout",
     "output_type": "stream",
     "text": [
      "step 2770, training accuracy 0.695698\nstep 2770, cost 220.118\nstep 2770, change in cost 0.0715637\n"
     ]
    },
    {
     "name": "stdout",
     "output_type": "stream",
     "text": [
      "step 2780, training accuracy 0.695698\nstep 2780, cost 220.046\nstep 2780, change in cost 0.0714722\n"
     ]
    },
    {
     "name": "stdout",
     "output_type": "stream",
     "text": [
      "step 2790, training accuracy 0.695698\nstep 2790, cost 219.975\nstep 2790, change in cost 0.0713501\n"
     ]
    },
    {
     "name": "stdout",
     "output_type": "stream",
     "text": [
      "step 2800, training accuracy 0.695698\nstep 2800, cost 219.903\nstep 2800, change in cost 0.0714722\n"
     ]
    },
    {
     "name": "stdout",
     "output_type": "stream",
     "text": [
      "step 2810, training accuracy 0.695698\nstep 2810, cost 219.832\nstep 2810, change in cost 0.0713501\n"
     ]
    },
    {
     "name": "stdout",
     "output_type": "stream",
     "text": [
      "step 2820, training accuracy 0.696747\nstep 2820, cost 219.761\nstep 2820, change in cost 0.0713196\n"
     ]
    },
    {
     "name": "stdout",
     "output_type": "stream",
     "text": [
      "step 2830, training accuracy 0.697796\nstep 2830, cost 219.689\nstep 2830, change in cost 0.0712585\n"
     ]
    },
    {
     "name": "stdout",
     "output_type": "stream",
     "text": [
      "step 2840, training accuracy 0.697796\nstep 2840, cost 219.618\nstep 2840, change in cost 0.0712585\n"
     ]
    },
    {
     "name": "stdout",
     "output_type": "stream",
     "text": [
      "step 2850, training accuracy 0.697796\nstep 2850, cost 219.547\nstep 2850, change in cost 0.0712128\n"
     ]
    },
    {
     "name": "stdout",
     "output_type": "stream",
     "text": [
      "step 2860, training accuracy 0.698846\nstep 2860, cost 219.476\nstep 2860, change in cost 0.0711212\n"
     ]
    },
    {
     "name": "stdout",
     "output_type": "stream",
     "text": [
      "step 2870, training accuracy 0.698846\nstep 2870, cost 219.405\nstep 2870, change in cost 0.0710907\n"
     ]
    },
    {
     "name": "stdout",
     "output_type": "stream",
     "text": [
      "step 2880, training accuracy 0.699895\nstep 2880, cost 219.334\nstep 2880, change in cost 0.0710449\n"
     ]
    },
    {
     "name": "stdout",
     "output_type": "stream",
     "text": [
      "step 2890, training accuracy 0.699895\nstep 2890, cost 219.263\nstep 2890, change in cost 0.0710907\n"
     ]
    },
    {
     "name": "stdout",
     "output_type": "stream",
     "text": [
      "step 2900, training accuracy 0.700944\nstep 2900, cost 219.192\nstep 2900, change in cost 0.0708923\n"
     ]
    },
    {
     "name": "stdout",
     "output_type": "stream",
     "text": [
      "step 2910, training accuracy 0.701994\nstep 2910, cost 219.121\nstep 2910, change in cost 0.0709991\n"
     ]
    },
    {
     "name": "stdout",
     "output_type": "stream",
     "text": [
      "step 2920, training accuracy 0.701994\nstep 2920, cost 219.05\nstep 2920, change in cost 0.0708008\n"
     ]
    },
    {
     "name": "stdout",
     "output_type": "stream",
     "text": [
      "step 2930, training accuracy 0.701994\nstep 2930, cost 218.979\nstep 2930, change in cost 0.0708923\n"
     ]
    },
    {
     "name": "stdout",
     "output_type": "stream",
     "text": [
      "step 2940, training accuracy 0.701994\nstep 2940, cost 218.908\nstep 2940, change in cost 0.0708313\n"
     ]
    },
    {
     "name": "stdout",
     "output_type": "stream",
     "text": [
      "step 2950, training accuracy 0.701994\nstep 2950, cost 218.838\nstep 2950, change in cost 0.070694\n"
     ]
    },
    {
     "name": "stdout",
     "output_type": "stream",
     "text": [
      "step 2960, training accuracy 0.701994\nstep 2960, cost 218.767\nstep 2960, change in cost 0.0707397\n"
     ]
    },
    {
     "name": "stdout",
     "output_type": "stream",
     "text": [
      "step 2970, training accuracy 0.703043\nstep 2970, cost 218.696\nstep 2970, change in cost 0.070755\n"
     ]
    },
    {
     "name": "stdout",
     "output_type": "stream",
     "text": [
      "step 2980, training accuracy 0.703043\nstep 2980, cost 218.625\nstep 2980, change in cost 0.0706024\n"
     ]
    },
    {
     "name": "stdout",
     "output_type": "stream",
     "text": [
      "step 2990, training accuracy 0.703043\nstep 2990, cost 218.555\nstep 2990, change in cost 0.0705719\n"
     ]
    },
    {
     "name": "stdout",
     "output_type": "stream",
     "text": [
      "step 3000, training accuracy 0.703043\nstep 3000, cost 218.484\nstep 3000, change in cost 0.0705109\n"
     ]
    },
    {
     "name": "stdout",
     "output_type": "stream",
     "text": [
      "step 3010, training accuracy 0.704092\nstep 3010, cost 218.414\nstep 3010, change in cost 0.0705872\n"
     ]
    },
    {
     "name": "stdout",
     "output_type": "stream",
     "text": [
      "step 3020, training accuracy 0.704092\nstep 3020, cost 218.343\nstep 3020, change in cost 0.0704346\n"
     ]
    },
    {
     "name": "stdout",
     "output_type": "stream",
     "text": [
      "step 3030, training accuracy 0.704092\nstep 3030, cost 218.273\nstep 3030, change in cost 0.0704651\n"
     ]
    },
    {
     "name": "stdout",
     "output_type": "stream",
     "text": [
      "step 3040, training accuracy 0.705142\nstep 3040, cost 218.203\nstep 3040, change in cost 0.0703735\n"
     ]
    },
    {
     "name": "stdout",
     "output_type": "stream",
     "text": [
      "step 3050, training accuracy 0.706191\nstep 3050, cost 218.132\nstep 3050, change in cost 0.0703583\n"
     ]
    },
    {
     "name": "stdout",
     "output_type": "stream",
     "text": [
      "step 3060, training accuracy 0.706191\nstep 3060, cost 218.062\nstep 3060, change in cost 0.0702057\n"
     ]
    },
    {
     "name": "stdout",
     "output_type": "stream",
     "text": [
      "step 3070, training accuracy 0.70724\nstep 3070, cost 217.992\nstep 3070, change in cost 0.0702667\n"
     ]
    },
    {
     "name": "stdout",
     "output_type": "stream",
     "text": [
      "step 3080, training accuracy 0.70724\nstep 3080, cost 217.921\nstep 3080, change in cost 0.0702515\n"
     ]
    },
    {
     "name": "stdout",
     "output_type": "stream",
     "text": [
      "step 3090, training accuracy 0.70829\nstep 3090, cost 217.851\nstep 3090, change in cost 0.0701141\n"
     ]
    },
    {
     "name": "stdout",
     "output_type": "stream",
     "text": [
      "step 3100, training accuracy 0.70829\nstep 3100, cost 217.781\nstep 3100, change in cost 0.0701294\n"
     ]
    },
    {
     "name": "stdout",
     "output_type": "stream",
     "text": [
      "step 3110, training accuracy 0.70829\nstep 3110, cost 217.711\nstep 3110, change in cost 0.0700836\n"
     ]
    },
    {
     "name": "stdout",
     "output_type": "stream",
     "text": [
      "step 3120, training accuracy 0.70829\nstep 3120, cost 217.641\nstep 3120, change in cost 0.0701294\n"
     ]
    },
    {
     "name": "stdout",
     "output_type": "stream",
     "text": [
      "step 3130, training accuracy 0.709339\nstep 3130, cost 217.571\nstep 3130, change in cost 0.0699463\n"
     ]
    },
    {
     "name": "stdout",
     "output_type": "stream",
     "text": [
      "step 3140, training accuracy 0.710388\nstep 3140, cost 217.501\nstep 3140, change in cost 0.0699158\n"
     ]
    },
    {
     "name": "stdout",
     "output_type": "stream",
     "text": [
      "step 3150, training accuracy 0.710388\nstep 3150, cost 217.431\nstep 3150, change in cost 0.0700378\n"
     ]
    },
    {
     "name": "stdout",
     "output_type": "stream",
     "text": [
      "step 3160, training accuracy 0.713536\nstep 3160, cost 217.361\nstep 3160, change in cost 0.0697937\n"
     ]
    },
    {
     "name": "stdout",
     "output_type": "stream",
     "text": [
      "step 3170, training accuracy 0.713536\nstep 3170, cost 217.291\nstep 3170, change in cost 0.0698242\n"
     ]
    },
    {
     "name": "stdout",
     "output_type": "stream",
     "text": [
      "step 3180, training accuracy 0.714586\nstep 3180, cost 217.222\nstep 3180, change in cost 0.0698242\n"
     ]
    },
    {
     "name": "stdout",
     "output_type": "stream",
     "text": [
      "step 3190, training accuracy 0.714586\nstep 3190, cost 217.152\nstep 3190, change in cost 0.0697327\n"
     ]
    },
    {
     "name": "stdout",
     "output_type": "stream",
     "text": [
      "step 3200, training accuracy 0.714586\nstep 3200, cost 217.082\nstep 3200, change in cost 0.0697174\n"
     ]
    },
    {
     "name": "stdout",
     "output_type": "stream",
     "text": [
      "step 3210, training accuracy 0.714586\nstep 3210, cost 217.013\nstep 3210, change in cost 0.0696411\n"
     ]
    },
    {
     "name": "stdout",
     "output_type": "stream",
     "text": [
      "step 3220, training accuracy 0.715635\nstep 3220, cost 216.943\nstep 3220, change in cost 0.0695953\n"
     ]
    },
    {
     "name": "stdout",
     "output_type": "stream",
     "text": [
      "step 3230, training accuracy 0.715635\nstep 3230, cost 216.873\nstep 3230, change in cost 0.0696411\n"
     ]
    },
    {
     "name": "stdout",
     "output_type": "stream",
     "text": [
      "step 3240, training accuracy 0.715635\nstep 3240, cost 216.804\nstep 3240, change in cost 0.0694885\n"
     ]
    },
    {
     "name": "stdout",
     "output_type": "stream",
     "text": [
      "step 3250, training accuracy 0.715635\nstep 3250, cost 216.734\nstep 3250, change in cost 0.0695496\n"
     ]
    },
    {
     "name": "stdout",
     "output_type": "stream",
     "text": [
      "step 3260, training accuracy 0.715635\nstep 3260, cost 216.665\nstep 3260, change in cost 0.0693817\n"
     ]
    },
    {
     "name": "stdout",
     "output_type": "stream",
     "text": [
      "step 3270, training accuracy 0.717734\nstep 3270, cost 216.595\nstep 3270, change in cost 0.0694275\n"
     ]
    },
    {
     "name": "stdout",
     "output_type": "stream",
     "text": [
      "step 3280, training accuracy 0.717734\nstep 3280, cost 216.526\nstep 3280, change in cost 0.0693665\n"
     ]
    },
    {
     "name": "stdout",
     "output_type": "stream",
     "text": [
      "step 3290, training accuracy 0.717734\nstep 3290, cost 216.457\nstep 3290, change in cost 0.0693054\n"
     ]
    },
    {
     "name": "stdout",
     "output_type": "stream",
     "text": [
      "step 3300, training accuracy 0.720881\nstep 3300, cost 216.388\nstep 3300, change in cost 0.0692902\n"
     ]
    },
    {
     "name": "stdout",
     "output_type": "stream",
     "text": [
      "step 3310, training accuracy 0.721931\nstep 3310, cost 216.318\nstep 3310, change in cost 0.0692444\n"
     ]
    },
    {
     "name": "stdout",
     "output_type": "stream",
     "text": [
      "step 3320, training accuracy 0.721931\nstep 3320, cost 216.249\nstep 3320, change in cost 0.0691528\n"
     ]
    },
    {
     "name": "stdout",
     "output_type": "stream",
     "text": [
      "step 3330, training accuracy 0.72298\nstep 3330, cost 216.18\nstep 3330, change in cost 0.0691223\n"
     ]
    },
    {
     "name": "stdout",
     "output_type": "stream",
     "text": [
      "step 3340, training accuracy 0.72298\nstep 3340, cost 216.111\nstep 3340, change in cost 0.0691833\n"
     ]
    },
    {
     "name": "stdout",
     "output_type": "stream",
     "text": [
      "step 3350, training accuracy 0.724029\nstep 3350, cost 216.042\nstep 3350, change in cost 0.0690308\n"
     ]
    },
    {
     "name": "stdout",
     "output_type": "stream",
     "text": [
      "step 3360, training accuracy 0.724029\nstep 3360, cost 215.973\nstep 3360, change in cost 0.0690918\n"
     ]
    },
    {
     "name": "stdout",
     "output_type": "stream",
     "text": [
      "step 3370, training accuracy 0.724029\nstep 3370, cost 215.904\nstep 3370, change in cost 0.0690002\n"
     ]
    },
    {
     "name": "stdout",
     "output_type": "stream",
     "text": [
      "step 3380, training accuracy 0.726128\nstep 3380, cost 215.835\nstep 3380, change in cost 0.0689087\n"
     ]
    },
    {
     "name": "stdout",
     "output_type": "stream",
     "text": [
      "step 3390, training accuracy 0.726128\nstep 3390, cost 215.766\nstep 3390, change in cost 0.0688629\n"
     ]
    },
    {
     "name": "stdout",
     "output_type": "stream",
     "text": [
      "step 3400, training accuracy 0.726128\nstep 3400, cost 215.697\nstep 3400, change in cost 0.068924\n"
     ]
    },
    {
     "name": "stdout",
     "output_type": "stream",
     "text": [
      "step 3410, training accuracy 0.726128\nstep 3410, cost 215.628\nstep 3410, change in cost 0.0688171\n"
     ]
    },
    {
     "name": "stdout",
     "output_type": "stream",
     "text": [
      "step 3420, training accuracy 0.726128\nstep 3420, cost 215.559\nstep 3420, change in cost 0.0688019\n"
     ]
    },
    {
     "name": "stdout",
     "output_type": "stream",
     "text": [
      "step 3430, training accuracy 0.726128\nstep 3430, cost 215.491\nstep 3430, change in cost 0.0687561\n"
     ]
    },
    {
     "name": "stdout",
     "output_type": "stream",
     "text": [
      "step 3440, training accuracy 0.728227\nstep 3440, cost 215.422\nstep 3440, change in cost 0.0686951\n"
     ]
    },
    {
     "name": "stdout",
     "output_type": "stream",
     "text": [
      "step 3450, training accuracy 0.729276\nstep 3450, cost 215.353\nstep 3450, change in cost 0.0685883\n"
     ]
    },
    {
     "name": "stdout",
     "output_type": "stream",
     "text": [
      "step 3460, training accuracy 0.732424\nstep 3460, cost 215.285\nstep 3460, change in cost 0.0686646\n"
     ]
    },
    {
     "name": "stdout",
     "output_type": "stream",
     "text": [
      "step 3470, training accuracy 0.733473\nstep 3470, cost 215.216\nstep 3470, change in cost 0.068573\n"
     ]
    },
    {
     "name": "stdout",
     "output_type": "stream",
     "text": [
      "step 3480, training accuracy 0.733473\nstep 3480, cost 215.148\nstep 3480, change in cost 0.0684509\n"
     ]
    },
    {
     "name": "stdout",
     "output_type": "stream",
     "text": [
      "step 3490, training accuracy 0.734523\nstep 3490, cost 215.079\nstep 3490, change in cost 0.068512\n"
     ]
    },
    {
     "name": "stdout",
     "output_type": "stream",
     "text": [
      "step 3500, training accuracy 0.734523\nstep 3500, cost 215.011\nstep 3500, change in cost 0.0684967\n"
     ]
    },
    {
     "name": "stdout",
     "output_type": "stream",
     "text": [
      "step 3510, training accuracy 0.735572\nstep 3510, cost 214.942\nstep 3510, change in cost 0.0682983\n"
     ]
    },
    {
     "name": "stdout",
     "output_type": "stream",
     "text": [
      "step 3520, training accuracy 0.735572\nstep 3520, cost 214.874\nstep 3520, change in cost 0.0684814\n"
     ]
    },
    {
     "name": "stdout",
     "output_type": "stream",
     "text": [
      "step 3530, training accuracy 0.734523\nstep 3530, cost 214.806\nstep 3530, change in cost 0.0682678\n"
     ]
    },
    {
     "name": "stdout",
     "output_type": "stream",
     "text": [
      "step 3540, training accuracy 0.735572\nstep 3540, cost 214.737\nstep 3540, change in cost 0.0682526\n"
     ]
    },
    {
     "name": "stdout",
     "output_type": "stream",
     "text": [
      "step 3550, training accuracy 0.735572\nstep 3550, cost 214.669\nstep 3550, change in cost 0.0682068\n"
     ]
    },
    {
     "name": "stdout",
     "output_type": "stream",
     "text": [
      "step 3560, training accuracy 0.735572\nstep 3560, cost 214.601\nstep 3560, change in cost 0.0682068\n"
     ]
    },
    {
     "name": "stdout",
     "output_type": "stream",
     "text": [
      "step 3570, training accuracy 0.735572\nstep 3570, cost 214.533\nstep 3570, change in cost 0.068222\n"
     ]
    },
    {
     "name": "stdout",
     "output_type": "stream",
     "text": [
      "step 3580, training accuracy 0.737671\nstep 3580, cost 214.465\nstep 3580, change in cost 0.068161\n"
     ]
    },
    {
     "name": "stdout",
     "output_type": "stream",
     "text": [
      "step 3590, training accuracy 0.737671\nstep 3590, cost 214.397\nstep 3590, change in cost 0.0679932\n"
     ]
    },
    {
     "name": "stdout",
     "output_type": "stream",
     "text": [
      "step 3600, training accuracy 0.73872\nstep 3600, cost 214.329\nstep 3600, change in cost 0.0679779\n"
     ]
    },
    {
     "name": "stdout",
     "output_type": "stream",
     "text": [
      "step 3610, training accuracy 0.73872\nstep 3610, cost 214.261\nstep 3610, change in cost 0.0680237\n"
     ]
    },
    {
     "name": "stdout",
     "output_type": "stream",
     "text": [
      "step 3620, training accuracy 0.73872\nstep 3620, cost 214.193\nstep 3620, change in cost 0.0679321\n"
     ]
    },
    {
     "name": "stdout",
     "output_type": "stream",
     "text": [
      "step 3630, training accuracy 0.73872\nstep 3630, cost 214.125\nstep 3630, change in cost 0.0679474\n"
     ]
    },
    {
     "name": "stdout",
     "output_type": "stream",
     "text": [
      "step 3640, training accuracy 0.73872\nstep 3640, cost 214.057\nstep 3640, change in cost 0.0678101\n"
     ]
    },
    {
     "name": "stdout",
     "output_type": "stream",
     "text": [
      "step 3650, training accuracy 0.73872\nstep 3650, cost 213.989\nstep 3650, change in cost 0.0678558\n"
     ]
    },
    {
     "name": "stdout",
     "output_type": "stream",
     "text": [
      "step 3660, training accuracy 0.73872\nstep 3660, cost 213.921\nstep 3660, change in cost 0.0677948\n"
     ]
    },
    {
     "name": "stdout",
     "output_type": "stream",
     "text": [
      "step 3670, training accuracy 0.73872\nstep 3670, cost 213.853\nstep 3670, change in cost 0.0677185\n"
     ]
    },
    {
     "name": "stdout",
     "output_type": "stream",
     "text": [
      "step 3680, training accuracy 0.740818\nstep 3680, cost 213.786\nstep 3680, change in cost 0.067688\n"
     ]
    },
    {
     "name": "stdout",
     "output_type": "stream",
     "text": [
      "step 3690, training accuracy 0.741868\nstep 3690, cost 213.718\nstep 3690, change in cost 0.0676422\n"
     ]
    },
    {
     "name": "stdout",
     "output_type": "stream",
     "text": [
      "step 3700, training accuracy 0.745016\nstep 3700, cost 213.651\nstep 3700, change in cost 0.0675964\n"
     ]
    },
    {
     "name": "stdout",
     "output_type": "stream",
     "text": [
      "step 3710, training accuracy 0.745016\nstep 3710, cost 213.583\nstep 3710, change in cost 0.0676422\n"
     ]
    },
    {
     "name": "stdout",
     "output_type": "stream",
     "text": [
      "step 3720, training accuracy 0.746065\nstep 3720, cost 213.515\nstep 3720, change in cost 0.0675201\n"
     ]
    },
    {
     "name": "stdout",
     "output_type": "stream",
     "text": [
      "step 3730, training accuracy 0.747114\nstep 3730, cost 213.448\nstep 3730, change in cost 0.0674286\n"
     ]
    },
    {
     "name": "stdout",
     "output_type": "stream",
     "text": [
      "step 3740, training accuracy 0.748164\nstep 3740, cost 213.38\nstep 3740, change in cost 0.0674744\n"
     ]
    },
    {
     "name": "stdout",
     "output_type": "stream",
     "text": [
      "step 3750, training accuracy 0.748164\nstep 3750, cost 213.313\nstep 3750, change in cost 0.0674286\n"
     ]
    },
    {
     "name": "stdout",
     "output_type": "stream",
     "text": [
      "step 3760, training accuracy 0.749213\nstep 3760, cost 213.246\nstep 3760, change in cost 0.0673065\n"
     ]
    },
    {
     "name": "stdout",
     "output_type": "stream",
     "text": [
      "step 3770, training accuracy 0.751312\nstep 3770, cost 213.178\nstep 3770, change in cost 0.0673218\n"
     ]
    },
    {
     "name": "stdout",
     "output_type": "stream",
     "text": [
      "step 3780, training accuracy 0.752361\nstep 3780, cost 213.111\nstep 3780, change in cost 0.067276\n"
     ]
    },
    {
     "name": "stdout",
     "output_type": "stream",
     "text": [
      "step 3790, training accuracy 0.75446\nstep 3790, cost 213.044\nstep 3790, change in cost 0.0673523\n"
     ]
    },
    {
     "name": "stdout",
     "output_type": "stream",
     "text": [
      "step 3800, training accuracy 0.75446\nstep 3800, cost 212.977\nstep 3800, change in cost 0.0671082\n"
     ]
    },
    {
     "name": "stdout",
     "output_type": "stream",
     "text": [
      "step 3810, training accuracy 0.755509\nstep 3810, cost 212.91\nstep 3810, change in cost 0.0671844\n"
     ]
    },
    {
     "name": "stdout",
     "output_type": "stream",
     "text": [
      "step 3820, training accuracy 0.755509\nstep 3820, cost 212.842\nstep 3820, change in cost 0.0670776\n"
     ]
    },
    {
     "name": "stdout",
     "output_type": "stream",
     "text": [
      "step 3830, training accuracy 0.755509\nstep 3830, cost 212.775\nstep 3830, change in cost 0.0671082\n"
     ]
    },
    {
     "name": "stdout",
     "output_type": "stream",
     "text": [
      "step 3840, training accuracy 0.756558\nstep 3840, cost 212.708\nstep 3840, change in cost 0.0670776\n"
     ]
    },
    {
     "name": "stdout",
     "output_type": "stream",
     "text": [
      "step 3850, training accuracy 0.756558\nstep 3850, cost 212.641\nstep 3850, change in cost 0.066864\n"
     ]
    },
    {
     "name": "stdout",
     "output_type": "stream",
     "text": [
      "step 3860, training accuracy 0.756558\nstep 3860, cost 212.574\nstep 3860, change in cost 0.0670319\n"
     ]
    },
    {
     "name": "stdout",
     "output_type": "stream",
     "text": [
      "step 3870, training accuracy 0.756558\nstep 3870, cost 212.507\nstep 3870, change in cost 0.0668945\n"
     ]
    },
    {
     "name": "stdout",
     "output_type": "stream",
     "text": [
      "step 3880, training accuracy 0.757608\nstep 3880, cost 212.441\nstep 3880, change in cost 0.0668945\n"
     ]
    },
    {
     "name": "stdout",
     "output_type": "stream",
     "text": [
      "step 3890, training accuracy 0.759706\nstep 3890, cost 212.374\nstep 3890, change in cost 0.0667572\n"
     ]
    },
    {
     "name": "stdout",
     "output_type": "stream",
     "text": [
      "step 3900, training accuracy 0.760755\nstep 3900, cost 212.307\nstep 3900, change in cost 0.0668335\n"
     ]
    },
    {
     "name": "stdout",
     "output_type": "stream",
     "text": [
      "step 3910, training accuracy 0.760755\nstep 3910, cost 212.24\nstep 3910, change in cost 0.0667419\n"
     ]
    },
    {
     "name": "stdout",
     "output_type": "stream",
     "text": [
      "step 3920, training accuracy 0.761805\nstep 3920, cost 212.174\nstep 3920, change in cost 0.0666962\n"
     ]
    },
    {
     "name": "stdout",
     "output_type": "stream",
     "text": [
      "step 3930, training accuracy 0.761805\nstep 3930, cost 212.107\nstep 3930, change in cost 0.0666809\n"
     ]
    },
    {
     "name": "stdout",
     "output_type": "stream",
     "text": [
      "step 3940, training accuracy 0.761805\nstep 3940, cost 212.04\nstep 3940, change in cost 0.0665436\n"
     ]
    },
    {
     "name": "stdout",
     "output_type": "stream",
     "text": [
      "step 3950, training accuracy 0.763903\nstep 3950, cost 211.974\nstep 3950, change in cost 0.0666809\n"
     ]
    },
    {
     "name": "stdout",
     "output_type": "stream",
     "text": [
      "step 3960, training accuracy 0.764953\nstep 3960, cost 211.907\nstep 3960, change in cost 0.0664978\n"
     ]
    },
    {
     "name": "stdout",
     "output_type": "stream",
     "text": [
      "step 3970, training accuracy 0.764953\nstep 3970, cost 211.841\nstep 3970, change in cost 0.0665283\n"
     ]
    },
    {
     "name": "stdout",
     "output_type": "stream",
     "text": [
      "step 3980, training accuracy 0.764953\nstep 3980, cost 211.774\nstep 3980, change in cost 0.0664368\n"
     ]
    },
    {
     "name": "stdout",
     "output_type": "stream",
     "text": [
      "step 3990, training accuracy 0.764953\nstep 3990, cost 211.708\nstep 3990, change in cost 0.0663757\n"
     ]
    }
   ],
   "source": [
    "\"\"\"Import Data\"\"\"\n",
    "dir_ = 'data_dir'\n",
    "tar_file = 'data.tar.gz'\n",
    "\n",
    "\n",
    "def csv_to_numpy_array(file_path, delimiter):\n",
    "    \"\"\"csv to numpy array\"\"\"\n",
    "    return np.genfromtxt(file_path, delimiter=delimiter, dtype=None)\n",
    "\n",
    "\n",
    "def import_data():\n",
    "    \"\"\"importing data\"\"\"\n",
    "    if dir_ not in os.listdir(os.getcwd() + '/007_NLP/HamOrSpam'):\n",
    "        # Untar directory of data if we haven't already\n",
    "        tar_object = tarfile.open(os.getcwd() + '/007_NLP/HamOrSpam/' + tar_file)\n",
    "        tar_object.extractall()\n",
    "        tar_object.close()\n",
    "        print('Extracted tar file to current directory')\n",
    "        print('Extracted again')\n",
    "    else:\n",
    "        pass\n",
    "    print(\"loading training data\")\n",
    "    train_x = csv_to_numpy_array(\"data/trainX.csv\", delimiter=\"\\t\")\n",
    "    train_y = csv_to_numpy_array(\"data/trainY.csv\", delimiter=\"\\t\")\n",
    "    print(\"loading test data\")\n",
    "    test_x = csv_to_numpy_array(\"data/testX.csv\", delimiter=\"\\t\")\n",
    "    test_y = csv_to_numpy_array(\"data/testY.csv\", delimiter=\"\\t\")\n",
    "    return train_x, train_y, test_x, test_y\n",
    "\n",
    "\n",
    "# extracting data\n",
    "train_x, train_y, test_x, test_y = import_data()\n",
    "\n",
    "# params\n",
    "num_features = train_x.shape[1]  # num of features(columns) - 2955\n",
    "num_labels = train_y.shape[1]  # num of labels(columns) - 2\n",
    "epochs = 25000\n",
    "# a smarter learning rate for GradientDescent\n",
    "learning_rate = tf.train.exponential_decay(learning_rate=.0008,\n",
    "                                           global_step=1,\n",
    "                                           decay_steps=train_x.shape[0],\n",
    "                                           decay_rate=.95,\n",
    "                                           staircase=True)\n",
    "\n",
    "# placeholders\n",
    "# X = X-matrix / feature-matrix / data-matrix... It's a tensor to hold our email\n",
    "# data. 'None' here means that we can hold any number of emails\n",
    "X = tf.placeholder(tf.float32, shape=[None, num_features])\n",
    "\n",
    "# Y = Y-matrix / label-matrix / labels... This will be our correct answers\n",
    "# matrix. Every row has either [1,0] for SPAM or [0,1] for HAM. 'None' here \n",
    "# means that we can hold any number of emails\n",
    "Y = tf.placeholder(tf.float32, shape=[None, num_labels])\n",
    "\n",
    "# variables\n",
    "# Values are randomly sampled from a Gaussian with a standard deviation of:\n",
    "#     sqrt(6 / (numInputNodes + numOutputNodes + 1))\n",
    "\n",
    "weights = tf.Variable(tf.random_normal([num_features, num_labels],\n",
    "                                       mean=0,\n",
    "                                       stddev=(np.sqrt(6 / num_features + num_labels + 1)),\n",
    "                                       name='weights'))\n",
    "\n",
    "bias = tf.Variable(tf.random_normal([1, num_labels],\n",
    "                                    mean=0,\n",
    "                                    stddev=np.sqrt(6 / num_labels + num_labels + 1)),\n",
    "                   name='bias')\n",
    "\n",
    "# init vars\n",
    "init_vars = tf.global_variables_initializer()\n",
    "\n",
    "# logistic regression\n",
    "# (i.e. ŷ =sig(WX+b)y^=sig(WX+b))\n",
    "\n",
    "# feed forward - prediction algorithm\n",
    "apply_weight_op = tf.matmul(X, weights, name='apply_weights')\n",
    "add_bias_op = tf.add(apply_weight_op, bias, name='add_bias')\n",
    "activation_op = tf.nn.sigmoid(add_bias_op, name='activation')\n",
    "\n",
    "# cost/loss operation\n",
    "# MSE -{ (1/2)summation(i = 1 .... N)[(Ypred-i - Yactual-i)^2]}\n",
    "cost_op = tf.nn.l2_loss(activation_op - Y, name='MSE')\n",
    "\n",
    "# optimization op\n",
    "optimization_op = tf.train.GradientDescentOptimizer(learning_rate).minimize(cost_op)\n",
    "\n",
    "# visualization\n",
    "epoch_vals = []\n",
    "accuracy_vals = []\n",
    "cost_vals = []\n",
    "# turn on interactive plotting\n",
    "plt.ion()\n",
    "\n",
    "# create main, super plot\n",
    "fig = plt.figure()\n",
    "# Create two subplots on their own axes and give titles\n",
    "ax1 = plt.subplot(\"211\")\n",
    "ax1.set_title(\"TRAINING ACCURACY\", fontsize=18)\n",
    "ax2 = plt.subplot(\"212\")\n",
    "ax2.set_title(\"TRAINING COST\", fontsize=18)\n",
    "plt.tight_layout()\n",
    "\n",
    "with tf.Session() as sess:\n",
    "    sess.run(init_vars)\n",
    "    # Ops for vizualization\n",
    "    # argmax(activation_op, 1) gives the label our model thought was most likely\n",
    "    # argmax(Y, 1) is the correct label\n",
    "    correct_predictions_OP = tf.equal(tf.argmax(activation_op, 1), tf.argmax(Y, 1))\n",
    "    # False is 0 and True is 1, what was our average?\n",
    "    accuracy_OP = tf.reduce_mean(tf.cast(correct_predictions_OP, \"float\"))\n",
    "    # Summary op for regression output\n",
    "    activation_summary_OP = tf.summary.histogram(\"output\", activation_op)\n",
    "    # Summary op for accuracy\n",
    "    accuracy_summary_OP = tf.summary.scalar(\"accuracy\", accuracy_OP)\n",
    "    # Summary op for cost\n",
    "    cost_summary_OP = tf.summary.scalar(\"cost\", cost_op)\n",
    "    # Summary ops to check how variables (W, b) are updating after each iteration\n",
    "    weightSummary = tf.summary.histogram(\"weights\", weights.eval(session=sess))\n",
    "    biasSummary = tf.summary.histogram(\"biases\", bias.eval(session=sess))\n",
    "    # Merge all summaries\n",
    "    # Merge all summaries\n",
    "    all_summary_OPS = tf.summary.merge_all()\n",
    "    # Summary writer\n",
    "    writer = tf.summary.FileWriter(\"summary_logs\", sess.graph)\n",
    "    # Initialize reporting variables\n",
    "    cost = 0\n",
    "    diff = 1\n",
    "\n",
    "    # Training epochs\n",
    "    for i in range(epochs):\n",
    "        if i > 1 and diff < .0001:\n",
    "            print(\"change in cost %g; convergence.\" % diff)\n",
    "            break\n",
    "        else:\n",
    "            # training\n",
    "            step = sess.run(optimization_op, feed_dict={X: train_x, Y: train_y})\n",
    "\n",
    "            # Report occasional stats\n",
    "        if i % 10 == 0:\n",
    "            # Add epoch to epoch_values\n",
    "            epoch_vals.append(i)\n",
    "            # Generate accuracy stats on test data\n",
    "            summary_results, train_accuracy, newCost = sess.run(\n",
    "                [all_summary_OPS, accuracy_OP, cost_op],\n",
    "                feed_dict={X: train_x, Y: train_y}\n",
    "            )\n",
    "            # Add accuracy to live graphing variable\n",
    "            accuracy_vals.append(train_accuracy)\n",
    "            # Add cost to live graphing variable\n",
    "            cost_vals.append(newCost)\n",
    "            # Write summary stats to writer\n",
    "            writer.add_summary(summary_results, i)\n",
    "            # Re-assign values for variables\n",
    "            diff = abs(newCost - cost)\n",
    "            cost = newCost\n",
    "\n",
    "            #generate print statements\n",
    "            print(\"step %d, training accuracy %g\" % (i, train_accuracy))\n",
    "            print(\"step %d, cost %g\" % (i, newCost))\n",
    "            print(\"step %d, change in cost %g\" % (i, diff))\n",
    "\n",
    "            # Plot progress to our two subplots\n",
    "            accuracyLine, = ax1.plot(epoch_vals, accuracy_vals)\n",
    "            costLine, = ax2.plot(epoch_vals, cost_vals)\n",
    "            fig.canvas.draw()\n",
    "            time.sleep(1)\n",
    "\n",
    "    # How well do we perform on held-out test data?\n",
    "    print(\"final accuracy on test set: %s\" % str(sess.run(accuracy_OP,\n",
    "                                                          feed_dict={X: test_x,\n",
    "                                                                     Y: test_y})))\n",
    "\n",
    "    # Create Saver\n",
    "    saver = tf.train.Saver()\n",
    "    # Save variables to .ckpt file\n",
    "    saver.save(sess, \"trained_variables.ckpt\")\n",
    "    print('all done!')\n"
   ]
  }
 ],
 "metadata": {
  "kernelspec": {
   "display_name": "Python 2",
   "language": "python",
   "name": "python2"
  },
  "language_info": {
   "codemirror_mode": {
    "name": "ipython",
    "version": 2
   },
   "file_extension": ".py",
   "mimetype": "text/x-python",
   "name": "python",
   "nbconvert_exporter": "python",
   "pygments_lexer": "ipython2",
   "version": "2.7.6"
  }
 },
 "nbformat": 4,
 "nbformat_minor": 0
}
