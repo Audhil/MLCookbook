{
 "cells": [
  {
   "cell_type": "code",
   "execution_count": 191,
   "metadata": {
    "collapsed": true
   },
   "outputs": [],
   "source": [
    "\"\"\"code \n",
    "@ https://github.com/Audhil/tensorflow_cookbook/blob/master/02_TensorFlow_Way/03_Working_with_Multiple_Layers/03_multiple_layers.ipynb\"\"\"\n",
    "import tensorflow as tf\n",
    "import numpy as np\n",
    "import os"
   ]
  },
  {
   "cell_type": "code",
   "execution_count": 192,
   "metadata": {},
   "outputs": [],
   "source": [
    "\"\"\"Here we will create a small image of size 4x4 pixels and propagate it through multiple layers.\"\"\"\n",
    "\n",
    "x_shape = [1, 4, 4, 1]\n",
    "# random image\n",
    "x_val = np.random.uniform(size=x_shape)\n",
    "\n",
    "# data place holder\n",
    "x_data = tf.placeholder(tf.float32, shape=x_shape)"
   ]
  },
  {
   "cell_type": "code",
   "execution_count": 193,
   "metadata": {},
   "outputs": [],
   "source": [
    "\"\"\"Layer 1 : Convolution\"\"\"\n",
    "# creating 2 x 2 moving window\n",
    "\n",
    "# Create a layer that takes a spatial moving window average\n",
    "# Our window will be 2x2 with a stride of 2 for height and width\n",
    "# The filter value will be 0.25 because we want the average of the 2x2 window\n",
    "my_filter = tf.constant(.25, shape=[2, 2, 1, 1])\n",
    "my_strides = [1., 2., 2., 1.]\n",
    "mov_avg_layer = tf.nn.conv2d(x_data, my_filter, my_strides, padding='SAME', name='moving_window')\n"
   ]
  },
  {
   "cell_type": "code",
   "execution_count": 194,
   "metadata": {},
   "outputs": [],
   "source": [
    "\"\"\"Layer 2 : Custom\"\"\"\n",
    "\"\"\"Our second layer will be a custom layer. \n",
    "Given an input, x, this layer flattens out x and computes sigmoid(Ax+b). \n",
    "Here, A and b will be predetermined constants.\"\"\"\n",
    "# Define a custom layer which will be sigmoid(Ax+b) where\n",
    "# x is a 2x2 matrix and A and b are 2x2 matrices\n",
    "\n",
    "\n",
    "def custom_layer(input_tensor):\n",
    "    input_tensor = tf.squeeze(input_tensor)\n",
    "    a = tf.constant([[1., 2.], [-3., 4.]])\n",
    "    b = tf.constant(2., shape=[2, 2])\n",
    "    return tf.add(tf.matmul(input_tensor, a), b)\n",
    "\n",
    "\n",
    "# adding custom layer to graph\n",
    "with tf.name_scope('Custom_Layer') as scope:\n",
    "    custom_layer1 = custom_layer(mov_avg_layer)\n"
   ]
  },
  {
   "cell_type": "code",
   "execution_count": 195,
   "metadata": {},
   "outputs": [
    {
     "name": "stdout",
     "output_type": "stream",
     "text": [
      "output :  [[[[ 0.60947818]\n   [ 0.37330738]]\n\n  [[ 0.54317284]\n   [ 0.58992469]]]]\noutput.shape :  (1, 2, 2, 1)\n"
     ]
    }
   ],
   "source": [
    "\"\"\"Run the output\"\"\"\n",
    "with tf.Session() as sess:\n",
    "    # The output should be an array that is 2x2, but size (1,2,2,1)\n",
    "    output = sess.run(mov_avg_layer, feed_dict={x_data: x_val})\n",
    "    print('output : ', output)\n",
    "    print('output.shape : ', output.shape)\n"
   ]
  },
  {
   "cell_type": "code",
   "execution_count": 196,
   "metadata": {},
   "outputs": [
    {
     "name": "stdout",
     "output_type": "stream",
     "text": [
      "custom_output :  [[ 1.48955607  4.71218586]\n [ 0.77339876  5.44604445]]\ncustom_output.shape :  (2, 2)\n"
     ]
    }
   ],
   "source": [
    "# After custom operation, size is now 2x2 (squeezed out size 1 dims), see below:\n",
    "with tf.Session() as sess:\n",
    "    custom_output = sess.run(custom_layer1, feed_dict={x_data: x_val})\n",
    "    print('custom_output : ', custom_output)\n",
    "    print('custom_output.shape : ', custom_output.shape)\n"
   ]
  },
  {
   "cell_type": "code",
   "execution_count": 197,
   "metadata": {},
   "outputs": [],
   "source": [
    "merged = tf.summary.merge_all(key='summaries')\n",
    "\n",
    "if not os.path.exists('multi_layer_logs/'):\n",
    "    os.makedirs('multi_layer_logs/')\n",
    "\n",
    "my_writer = tf.summary.FileWriter('multi_layer_logs/', sess.graph)\n"
   ]
  }
 ],
 "metadata": {
  "kernelspec": {
   "display_name": "Python 2",
   "language": "python",
   "name": "python2"
  },
  "language_info": {
   "codemirror_mode": {
    "name": "ipython",
    "version": 2
   },
   "file_extension": ".py",
   "mimetype": "text/x-python",
   "name": "python",
   "nbconvert_exporter": "python",
   "pygments_lexer": "ipython2",
   "version": "2.7.6"
  }
 },
 "nbformat": 4,
 "nbformat_minor": 0
}
