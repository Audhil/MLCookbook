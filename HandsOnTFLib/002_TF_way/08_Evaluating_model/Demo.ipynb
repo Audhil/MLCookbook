{
 "cells": [
  {
   "cell_type": "code",
   "execution_count": 76,
   "metadata": {
    "collapsed": true
   },
   "outputs": [],
   "source": [
    "\"\"\"Evaluating Models\"\"\"\n",
    "\n",
    "# source code : https://github.com/Audhil/tensorflow_cookbook/blob/master/02_TensorFlow_Way/08_Evaluating_Models/08_evaluating_models.ipynb\n",
    "\n",
    "import tensorflow as tf\n",
    "import numpy as np\n",
    "import matplotlib.pyplot as plt"
   ]
  },
  {
   "cell_type": "code",
   "execution_count": 77,
   "metadata": {},
   "outputs": [
    {
     "data": {
      "text/plain": [
       "'For the regression model we will generate 100 random samples from a Normal(mean=1, sd=0.1). \\nThe target will be an array of size 100 filled with the target value of 10.0.\\nWe will fit the linear model $y=A \\\\cdot x$ (no y intercept). The theoretical value of A is 10.0.'"
      ]
     },
     "execution_count": 77,
     "metadata": {},
     "output_type": "execute_result"
    }
   ],
   "source": [
    "\"\"\"Regression Model\"\"\"\n",
    "\n",
    "\"\"\"For the regression model we will generate 100 random samples from a Normal(mean=1, sd=0.1). \n",
    "The target will be an array of size 100 filled with the target value of 10.0.\n",
    "We will fit the linear model $y=A \\cdot x$ (no y intercept). The theoretical value of A is 10.0.\"\"\""
   ]
  },
  {
   "cell_type": "code",
   "execution_count": 78,
   "metadata": {},
   "outputs": [],
   "source": [
    "batch_size = 25\n",
    "learning_rate = .02\n",
    "epochs = 1000\n"
   ]
  },
  {
   "cell_type": "code",
   "execution_count": 79,
   "metadata": {},
   "outputs": [
    {
     "name": "stdout",
     "output_type": "stream",
     "text": [
      "Step #25 A = [[ 6.79948568]]\nLoss = 10.3066\nStep #50 A = [[ 8.84168816]]\nLoss = 1.34861\nStep #75 A = [[ 9.57591248]]\nLoss = 1.20772\nStep #100 A = [[ 9.82526588]]\nLoss = 0.514096\nStep #125 A = [[ 9.91490555]]\nLoss = 0.572136\nStep #150 A = [[ 9.95020294]]\nLoss = 1.32269\nStep #175 A = [[ 9.97117138]]\nLoss = 1.13945\nStep #200 A = [[ 9.97158527]]\nLoss = 0.47447\nStep #225 A = [[ 10.00874519]]\nLoss = 1.17678\nStep #250 A = [[ 10.02682114]]\nLoss = 0.76478\nStep #275 A = [[ 9.97177792]]\nLoss = 0.84327\nStep #300 A = [[ 9.95977497]]\nLoss = 1.01776\nStep #325 A = [[ 9.92786503]]\nLoss = 0.453751\nStep #350 A = [[ 9.96060181]]\nLoss = 0.677054\nStep #375 A = [[ 9.95635319]]\nLoss = 0.753239\nStep #400 A = [[ 9.98184586]]\nLoss = 0.624961\nStep #425 A = [[ 9.99627399]]\nLoss = 0.999815\nStep #450 A = [[ 10.00660801]]\nLoss = 0.686894\nStep #475 A = [[ 9.97324085]]\nLoss = 0.634348\nStep #500 A = [[ 10.0066576]]\nLoss = 0.762524\nStep #525 A = [[ 10.03481865]]\nLoss = 0.686287\n"
     ]
    },
    {
     "name": "stdout",
     "output_type": "stream",
     "text": [
      "Step #550 A = [[ 10.01509476]]\nLoss = 0.826554\nStep #575 A = [[ 10.03890419]]\nLoss = 1.0503\nStep #600 A = [[ 10.07072735]]\nLoss = 0.652695\nStep #625 A = [[ 10.03097916]]\nLoss = 0.617692\nStep #650 A = [[ 10.00998592]]\nLoss = 0.589343\nStep #675 A = [[ 10.04493809]]\nLoss = 0.717396\nStep #700 A = [[ 10.04192257]]\nLoss = 1.21304\nStep #725 A = [[ 9.99537659]]\nLoss = 0.924513\nStep #750 A = [[ 9.97947121]]\nLoss = 0.790202\nStep #775 A = [[ 10.00146675]]\nLoss = 0.598803\nStep #800 A = [[ 10.01720428]]\nLoss = 0.462609\nStep #825 A = [[ 10.05621052]]\nLoss = 0.769973\nStep #850 A = [[ 10.01642704]]\nLoss = 0.72248\nStep #875 A = [[ 10.0206871]]\nLoss = 1.09169\nStep #900 A = [[ 10.02209473]]\nLoss = 0.710216\nStep #925 A = [[ 10.01005363]]\nLoss = 1.03608\nStep #950 A = [[ 9.97808075]]\nLoss = 0.79885\nStep #975 A = [[ 9.988451]]\nLoss = 0.818484\nStep #1000 A = [[ 10.0209198]]\nLoss = 0.757188\n"
     ]
    }
   ],
   "source": [
    "\"\"\"Generate Data for Regression\n",
    "Here we generate the data required for the regression. We also specify the necessary placeholders.\n",
    "After we split the data into a 80-20 train-test split.\"\"\"\n",
    "\n",
    "# Create data\n",
    "x_vals = np.random.normal(1, 0.1, 100)\n",
    "y_vals = np.repeat(10., 100)\n",
    "\n",
    "# Split data into train/test = 80%/20%\n",
    "train_indices = np.random.choice(len(x_vals), round(len(x_vals) * .8), replace=False)\n",
    "test_indices = np.array(list(set(range(len(x_vals))) - set(train_indices)))\n",
    "x_vals_train = x_vals[train_indices]\n",
    "x_vals_test = x_vals[test_indices]\n",
    "y_vals_train = y_vals[train_indices]\n",
    "y_vals_test = y_vals[test_indices]\n",
    "\n",
    "# place holders\n",
    "x_place_holder = tf.placeholder(dtype=tf.float32, shape=[None, 1])\n",
    "y_place_holder = tf.placeholder(dtype=tf.float32, shape=[None, 1])\n",
    "\n",
    "# Variable\n",
    "A = tf.Variable(tf.random_normal(shape=[1, 1]))\n",
    "\n",
    "# model\n",
    "model = tf.matmul(x_place_holder, A)\n",
    "\n",
    "# loss function\n",
    "# L2 loss\n",
    "loss = tf.reduce_mean(tf.square(tf.subtract(model, y_place_holder)))\n",
    "\n",
    "# optimizer\n",
    "optimizer = tf.train.GradientDescentOptimizer(learning_rate).minimize(loss)\n",
    "\n",
    "init_vars = tf.global_variables_initializer()\n",
    "\n",
    "with tf.Session() as sess:\n",
    "    sess.run(init_vars)\n",
    "    for i in range(epochs):\n",
    "        rand_index = np.random.choice(len(x_vals_train), size=batch_size)\n",
    "        rand_x = np.transpose([x_vals_train[rand_index]])\n",
    "        rand_y = np.transpose([y_vals_train[rand_index]])\n",
    "        sess.run(optimizer, feed_dict={x_place_holder: rand_x, y_place_holder: rand_y})\n",
    "        if (i + 1) % 25 == 0:\n",
    "            print('Step #' + str(i + 1) + ' A = ' + str(sess.run(A)))\n",
    "            print('Loss = ' + str(sess.run(loss, feed_dict={x_place_holder: rand_x, y_place_holder: rand_y})))\n"
   ]
  },
  {
   "cell_type": "code",
   "execution_count": 80,
   "metadata": {},
   "outputs": [
    {
     "name": "stdout",
     "output_type": "stream",
     "text": [
      "MSE on train :  0.885299987793\nMSE on test :  0.884499969482\n"
     ]
    }
   ],
   "source": [
    "\"\"\"Evaluating the Regression model\"\"\"\n",
    "# For the regression model evaluation, we will run the loss wih the training and test set.\n",
    "\n",
    "# Evaluate accuracy (loss) on test set\n",
    "with tf.Session() as sess:\n",
    "    sess.run(init_vars)\n",
    "    mse_train = sess.run(loss, feed_dict={x_place_holder: np.transpose([x_vals_train]),\n",
    "                                          y_place_holder: np.transpose([y_vals_train])})\n",
    "\n",
    "    mse_test = sess.run(loss, feed_dict={x_place_holder: np.transpose([x_vals_test]),\n",
    "                                         y_place_holder: np.transpose([y_vals_test])})\n",
    "\n",
    "    print('MSE on train : ', str(np.round(mse_train, 2) / 100))\n",
    "    print('MSE on test : ', str(np.round(mse_test, 2) / 100))\n"
   ]
  },
  {
   "cell_type": "markdown",
   "metadata": {},
   "source": [
    "Classification Example\n",
    "\n",
    "For the classification example, we generate data as follows:\n",
    "The input data will be a sample of size 50 from a Normal(mean = -1, sd = 1) and a sample of 50 from a Normal(mean = 1, sd = 1).\n",
    "The target data will be 50 values of 0 and 50 values of 1.\n",
    "We fit the binary classification model:\n",
    "If $sigmoid(x+A)&lt;0.5$ Then we predict class 0\n",
    "If $sigmoid(x+A)&gt;=0.5$ Then we predict class 1\n",
    "Theoretically A should be\n",
    "$$ - \\frac{mean1 + mean2}{2} = 0$$"
   ]
  },
  {
   "cell_type": "code",
   "execution_count": 81,
   "metadata": {},
   "outputs": [
    {
     "name": "stdout",
     "output_type": "stream",
     "text": [
      "Step #200 A = [ 4.75223684]\nLoss = 2.75295\nStep #400 A = [ 1.03689408]\nLoss = 0.553718\nStep #600 A = [-0.02879105]\nLoss = 0.220092\n"
     ]
    },
    {
     "name": "stdout",
     "output_type": "stream",
     "text": [
      "Step #800 A = [-0.23992744]\nLoss = 0.242676\nStep #1000 A = [-0.3415409]\nLoss = 0.26192\nStep #1200 A = [-0.29597193]\nLoss = 0.351862\n"
     ]
    },
    {
     "name": "stdout",
     "output_type": "stream",
     "text": [
      "Step #1400 A = [-0.3221682]\nLoss = 0.19834\nStep #1600 A = [-0.31789702]\nLoss = 0.247198\nStep #1800 A = [-0.30745864]\nLoss = 0.319557\n"
     ]
    },
    {
     "name": "stdout",
     "output_type": "stream",
     "text": [
      "Accuracy on train set: 0.9125\nAccuracy on test set: 1.0\n"
     ]
    },
    {
     "data": {
      "image/png": "[encoded data removed]",
      "text/plain": [
       "<matplotlib.figure.Figure at 0x11bb73e80>"
      ]
     },
     "metadata": {},
     "output_type": "display_data"
    }
   ],
   "source": [
    "sess = tf.Session()\n",
    "batch_size = 25\n",
    "\n",
    "# Create data\n",
    "x_vals = np.concatenate((np.random.normal(-1, 1, 50), np.random.normal(2, 1, 50)))\n",
    "y_vals = np.concatenate((np.repeat(0., 50), np.repeat(1., 50)))\n",
    "x_data = tf.placeholder(shape=[1, None], dtype=tf.float32)\n",
    "y_target = tf.placeholder(shape=[1, None], dtype=tf.float32)\n",
    "\n",
    "# Split data into train/test = 80%/20%\n",
    "train_indices = np.random.choice(len(x_vals), round(len(x_vals) * 0.8), replace=False)\n",
    "test_indices = np.array(list(set(range(len(x_vals))) - set(train_indices)))\n",
    "x_vals_train = x_vals[train_indices]\n",
    "x_vals_test = x_vals[test_indices]\n",
    "y_vals_train = y_vals[train_indices]\n",
    "y_vals_test = y_vals[test_indices]\n",
    "\n",
    "# Create variable (one model parameter = A)\n",
    "A = tf.Variable(tf.random_normal(mean=10, shape=[1]))\n",
    "\n",
    "# Add operation to graph\n",
    "# Want to create the operstion sigmoid(x + A)\n",
    "# Note, the sigmoid() part is in the loss function\n",
    "my_output = tf.add(x_data, A)\n",
    "\n",
    "# Add classification loss (cross entropy)\n",
    "xentropy = tf.reduce_mean(tf.nn.sigmoid_cross_entropy_with_logits(logits=my_output, labels=y_target))\n",
    "\n",
    "# Create Optimizer\n",
    "my_opt = tf.train.GradientDescentOptimizer(0.05)\n",
    "train_step = my_opt.minimize(xentropy)\n",
    "\n",
    "# Initialize variables\n",
    "init = tf.global_variables_initializer()\n",
    "sess.run(init)\n",
    "\n",
    "# Run loop\n",
    "for i in range(1800):\n",
    "    rand_index = np.random.choice(len(x_vals_train), size=batch_size)\n",
    "    rand_x = [x_vals_train[rand_index]]\n",
    "    rand_y = [y_vals_train[rand_index]]\n",
    "    sess.run(train_step, feed_dict={x_data: rand_x, y_target: rand_y})\n",
    "    if (i + 1) % 200 == 0:\n",
    "        print('Step #' + str(i + 1) + ' A = ' + str(sess.run(A)))\n",
    "        print('Loss = ' + str(sess.run(xentropy, feed_dict={x_data: rand_x, y_target: rand_y})))\n",
    "\n",
    "# evaluation of Classification\n",
    "# Evaluate Predictions on test set\n",
    "y_prediction = tf.squeeze(tf.round(tf.nn.sigmoid(tf.add(x_data, A))))\n",
    "correct_prediction = tf.equal(y_prediction, y_target)\n",
    "accuracy = tf.reduce_mean(tf.cast(correct_prediction, tf.float32))\n",
    "acc_value_test = sess.run(accuracy, feed_dict={x_data: [x_vals_test], y_target: [y_vals_test]})\n",
    "acc_value_train = sess.run(accuracy, feed_dict={x_data: [x_vals_train], y_target: [y_vals_train]})\n",
    "print('Accuracy on train set: ' + str(acc_value_train))\n",
    "print('Accuracy on test set: ' + str(acc_value_test))\n",
    "\n",
    "# Plot classification result\n",
    "A_result = -sess.run(A)\n",
    "bins = np.linspace(-5, 5, 50)\n",
    "plt.hist(x_vals[0:50], bins, alpha=0.5, label='N(-1,1)', color='white')\n",
    "plt.hist(x_vals[50:100], bins[0:50], alpha=0.5, label='N(2,1)', color='red')\n",
    "plt.plot((A_result, A_result), (0, 8), 'k--', linewidth=3, label='A = ' + str(np.round(A_result, 2)))\n",
    "plt.legend(loc='upper right')\n",
    "plt.title('Binary Classifier, Accuracy=' + str(np.round(acc_value_test, 2)))\n",
    "plt.show()\n",
    "\n",
    "sess.close()\n"
   ]
  }
 ],
 "metadata": {
  "kernelspec": {
   "display_name": "Python 2",
   "language": "python",
   "name": "python2"
  },
  "language_info": {
   "codemirror_mode": {
    "name": "ipython",
    "version": 2
   },
   "file_extension": ".py",
   "mimetype": "text/x-python",
   "name": "python",
   "nbconvert_exporter": "python",
   "pygments_lexer": "ipython2",
   "version": "2.7.6"
  }
 },
 "nbformat": 4,
 "nbformat_minor": 0
}
