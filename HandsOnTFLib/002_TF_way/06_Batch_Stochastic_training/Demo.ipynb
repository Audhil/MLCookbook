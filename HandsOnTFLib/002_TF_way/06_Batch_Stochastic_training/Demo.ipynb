{
 "cells": [
  {
   "cell_type": "code",
   "execution_count": 61,
   "metadata": {
    "collapsed": true
   },
   "outputs": [],
   "source": [
    "\"\"\"Batch & Stochastic training\"\"\"\n",
    "\n",
    "import tensorflow as tf\n",
    "import numpy as np\n",
    "import matplotlib.pyplot as plt\n",
    "%matplotlib inline"
   ]
  },
  {
   "cell_type": "markdown",
   "metadata": {},
   "source": [
    "Stochastic Training"
   ]
  },
  {
   "cell_type": "code",
   "execution_count": 62,
   "metadata": {},
   "outputs": [],
   "source": [
    "learning_rate = .02\n",
    "display_step = 5\n",
    "epochs = 100"
   ]
  },
  {
   "cell_type": "code",
   "execution_count": 63,
   "metadata": {},
   "outputs": [
    {
     "name": "stdout",
     "output_type": "stream",
     "text": [
      "Epoch 5  A is [ 1.75787425] Stochastic Loss is [ 66.46611786]\nEpoch 10  A is [ 3.3104248] Stochastic Loss is [ 50.34594345]\nEpoch 15  A is [ 4.57982016] Stochastic Loss is [ 20.42941666]\nEpoch 20  A is [ 5.561553] Stochastic Loss is [ 11.19017506]\nEpoch 25  A is [ 6.3538866] Stochastic Loss is [ 12.29871464]\nEpoch 30  A is [ 7.03160238] Stochastic Loss is [ 4.94850063]\nEpoch 35  A is [ 7.5162673] Stochastic Loss is [ 3.48030543]\nEpoch 40  A is [ 7.94060421] Stochastic Loss is [ 1.58730495]\nEpoch 45  A is [ 8.33858299] Stochastic Loss is [ 3.94920945]\nEpoch 50  A is [ 8.72607517] Stochastic Loss is [ 9.49859619]\nEpoch 55  A is [ 9.00095844] Stochastic Loss is [ 1.40506244]\nEpoch 60  A is [ 9.11885548] Stochastic Loss is [ 0.52472293]\nEpoch 65  A is [ 9.39101028] Stochastic Loss is [ 1.73480904]\nEpoch 70  A is [ 9.44807529] Stochastic Loss is [ 0.0125409]\nEpoch 75  A is [ 9.64836502] Stochastic Loss is [ 2.77275205]\nEpoch 80  A is [ 9.7068615] Stochastic Loss is [ 0.83843482]\nEpoch 85  A is [ 9.59654045] Stochastic Loss is [ 0.14783844]\nEpoch 90  A is [ 9.6348505] Stochastic Loss is [ 0.02329704]\nEpoch 95  A is [ 9.72520924] Stochastic Loss is [ 1.65074921]\nEpoch 100  A is [ 9.59284019] Stochastic Loss is [ 0.00055326]\n"
     ]
    }
   ],
   "source": [
    "\"\"\"Generating random data\"\"\"\n",
    "\n",
    "x_vals = np.random.normal(1, .1, 100)\n",
    "y_vals = np.repeat(10., 100)\n",
    "\n",
    "x_data = tf.placeholder(tf.float32, shape=[1])\n",
    "y_target = tf.placeholder(tf.float32, shape=[1])\n",
    "\n",
    "# We create the one variable in the graph, A. \n",
    "# We then create the model operation, which is just the multiplication of the input data and A.\n",
    "A = tf.Variable(tf.random_normal(shape=[1]))\n",
    "\n",
    "# model operation\n",
    "output = tf.multiply(x_data, A)\n",
    "\n",
    "# Loss function\n",
    "l2_loss = tf.square(tf.subtract(output, y_target))\n",
    "\n",
    "optimizer = tf.train.GradientDescentOptimizer(learning_rate).minimize(l2_loss)\n",
    "\n",
    "init = tf.global_variables_initializer()\n",
    "\n",
    "with tf.Session() as sess:\n",
    "    sess.run(init)\n",
    "    loss_stochastic = []\n",
    "    for i in range(epochs):\n",
    "        random_choice = np.random.choice(100)\n",
    "        sess.run(optimizer, feed_dict={x_data: [x_vals[random_choice]], y_target: [y_vals[random_choice]]})\n",
    "\n",
    "        if (i + 1) % display_step == 0:\n",
    "            loss = sess.run(l2_loss, feed_dict={x_data: [x_vals[random_choice]], y_target: [y_vals[random_choice]]})\n",
    "            print('Epoch %d ' % (i + 1), 'A is ' + str(sess.run(A)), 'Stochastic Loss is ' + str(loss))\n",
    "            loss_stochastic.append(loss)\n"
   ]
  },
  {
   "cell_type": "markdown",
   "metadata": {},
   "source": [
    "Batch Training"
   ]
  },
  {
   "cell_type": "code",
   "execution_count": 64,
   "metadata": {},
   "outputs": [
    {
     "name": "stdout",
     "output_type": "stream",
     "text": [
      "Epoch 5  A is [[ 2.23400688]] Batch Loss is 59.5929\nEpoch 10  A is [[ 3.66117859]] Batch Loss is 40.4046\nEpoch 15  A is [[ 4.82681322]] Batch Loss is 26.4647\nEpoch 20  A is [[ 5.77285862]] Batch Loss is 17.7913\nEpoch 25  A is [[ 6.53858948]] Batch Loss is 11.9428\nEpoch 30  A is [[ 7.15583754]] Batch Loss is 7.85658\nEpoch 35  A is [[ 7.67578888]] Batch Loss is 5.67585\nEpoch 40  A is [[ 8.06619453]] Batch Loss is 3.22623\nEpoch 45  A is [[ 8.38919353]] Batch Loss is 2.52347\nEpoch 50  A is [[ 8.66345501]] Batch Loss is 2.49159\nEpoch 55  A is [[ 8.88293076]] Batch Loss is 1.63458\nEpoch 60  A is [[ 9.08016396]] Batch Loss is 1.21986\nEpoch 65  A is [[ 9.22535515]] Batch Loss is 0.778411\nEpoch 70  A is [[ 9.31166744]] Batch Loss is 0.642071\nEpoch 75  A is [[ 9.40529823]] Batch Loss is 0.997735\nEpoch 80  A is [[ 9.47474861]] Batch Loss is 0.890459\nEpoch 85  A is [[ 9.55140972]] Batch Loss is 0.546268\nEpoch 90  A is [[ 9.60163784]] Batch Loss is 0.735949\nEpoch 95  A is [[ 9.65854359]] Batch Loss is 0.862966\nEpoch 100  A is [[ 9.68623734]] Batch Loss is 0.936013\n"
     ]
    }
   ],
   "source": [
    "\"\"\"For Batch training, we need to declare our batch size. \n",
    "The larger the batch size, the smoother the convergence will be towards the optimal value. \n",
    "But if the batch size is too large, the optimization algorithm may get stuck in a local minimum, \n",
    "where a more stochastic convergence may jump out.\n",
    "\n",
    "Here, the we may change the batch size from 1 to 100 to see the effects of the batch size on the convergence plots at the end.\"\"\"\n",
    "\n",
    "# declaring the batch size\n",
    "batch_size = 25\n",
    "\n",
    "# Generating random data\n",
    "x_vals = np.random.normal(1, .1, 100)\n",
    "y_vals = np.repeat(10., 100)\n",
    "\n",
    "# where the batch size will take the place of the None dimension.\n",
    "x_place_holder = tf.placeholder(tf.float32, shape=[None, 1])\n",
    "y_place_holder = tf.placeholder(tf.float32, shape=[None, 1])\n",
    "\n",
    "# variable\n",
    "A = tf.Variable(tf.random_normal(shape=[1, 1]))\n",
    "\n",
    "# output\n",
    "output = tf.matmul(x_place_holder, A)\n",
    "\n",
    "# loss function\n",
    "l2_loss = tf.reduce_mean(tf.square(tf.subtract(output, y_place_holder)))\n",
    "\n",
    "# optimizer\n",
    "optimizer = tf.train.GradientDescentOptimizer(learning_rate).minimize(l2_loss)\n",
    "\n",
    "init = tf.global_variables_initializer()\n",
    "\n",
    "with tf.Session() as sess:\n",
    "    sess.run(init)\n",
    "\n",
    "    loss_batch = []\n",
    "    for i in range(epochs):\n",
    "        random_choice = np.random.choice(100, size=batch_size)\n",
    "        sess.run(optimizer, feed_dict={x_place_holder: np.transpose([x_vals[random_choice]]),\n",
    "                                       y_place_holder: np.transpose([y_vals[random_choice]])})\n",
    "\n",
    "        if (i + 1) % display_step == 0:\n",
    "            loss = sess.run(l2_loss, feed_dict={x_place_holder: np.transpose([x_vals[random_choice]]),\n",
    "                                                y_place_holder: np.transpose([y_vals[random_choice]])})\n",
    "            print('Epoch %d ' % (i + 1), 'A is ' + str(sess.run(A)), 'Batch Loss is ' + str(loss))\n",
    "            loss_batch.append(loss)\n"
   ]
  },
  {
   "cell_type": "code",
   "execution_count": 65,
   "metadata": {},
   "outputs": [
    {
     "data": {
      "image/png": "[encoded data removed]",
      "text/plain": [
       "<matplotlib.figure.Figure at 0x11c189320>"
      ]
     },
     "metadata": {},
     "output_type": "display_data"
    }
   ],
   "source": [
    "# plotting graph\n",
    "plt.plot(range(0, 100, 5), loss_stochastic, 'b-', label='Stochastic Loss')\n",
    "plt.plot(range(0, 100, 5), loss_batch, 'r--', label='Batch Loss, size = 25')\n",
    "plt.legend(loc='upper right', prop={'size': 10})\n",
    "plt.show()\n",
    "\n",
    "print('all done!')\n"
   ]
  }
 ],
 "metadata": {
  "kernelspec": {
   "display_name": "Python 2",
   "language": "python",
   "name": "python2"
  },
  "language_info": {
   "codemirror_mode": {
    "name": "ipython",
    "version": 2
   },
   "file_extension": ".py",
   "mimetype": "text/x-python",
   "name": "python",
   "nbconvert_exporter": "python",
   "pygments_lexer": "ipython2",
   "version": "2.7.6"
  }
 },
 "nbformat": 4,
 "nbformat_minor": 0
}
