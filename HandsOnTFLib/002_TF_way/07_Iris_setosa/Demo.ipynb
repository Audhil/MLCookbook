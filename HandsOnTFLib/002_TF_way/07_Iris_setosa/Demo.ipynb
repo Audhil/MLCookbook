{
 "cells": [
  {
   "cell_type": "code",
   "execution_count": 36,
   "metadata": {
    "collapsed": true
   },
   "outputs": [],
   "source": [
    "\"\"\"Iris Binary Classification\"\"\"\n",
    "\n",
    "import tensorflow as tf\n",
    "import numpy as np\n",
    "from sklearn import datasets\n",
    "import matplotlib.pyplot as plt"
   ]
  },
  {
   "cell_type": "code",
   "execution_count": 37,
   "metadata": {},
   "outputs": [],
   "source": [
    "# Load the iris data\n",
    "# iris.target = {0, 1, 2}, where '0' is setosa\n",
    "# iris.data ~ [sepal.width, sepal.length, pedal.width, pedal.length]\n",
    "\n",
    "# we are classifying with pedal.width and pedal.length\n",
    "\n",
    "iris = datasets.load_iris()\n",
    "binary_target = np.array([1. if x == 0 else 0. for x in iris.target])\n",
    "\n",
    "iris_2d = np.array([[x[2], x[3]] for x in iris.data])\n",
    "\n",
    "batch_size = 20\n",
    "learning_rate = 0.05\n",
    "\n",
    "# Placeholders\n",
    "# Declare placeholders\n",
    "x1_data = tf.placeholder(shape=[None, 1], dtype=tf.float32)\n",
    "x2_data = tf.placeholder(shape=[None, 1], dtype=tf.float32)\n",
    "y_target = tf.placeholder(shape=[None, 1], dtype=tf.float32)\n",
    "\n",
    "# Model Variables\n",
    "# Create variables A and b\n",
    "A = tf.Variable(tf.random_normal(shape=[1, 1]))\n",
    "b = tf.Variable(tf.random_normal(shape=[1, 1]))"
   ]
  },
  {
   "cell_type": "markdown",
   "metadata": {},
   "source": [
    "Model Operations\n",
    "\n",
    "A line can be defined as $x_{1}=A\\cdot x_{2} + b$. To create a linear separator, we would like to see which side of the line the data points fall. There are three cases:\n",
    "A point exactly on the line will satisfy: $0 = x_{1} - (A\\cdot x_{2} + b)$\n",
    "A point above the line satisfies: $0 &gt; x_{1} - (A\\cdot x_{2} + b)$\n",
    "A point below the line satisfies: $0 &lt; x_{1} - (A\\cdot x_{2} + b)$\n",
    "We will make the output of this model:\n",
    "$$x_{1} - (A \\cdot x_{2} + b)$$\n",
    "Then the predictions will be the sign of that output:\n",
    "$$Prediction(x_{1},x_{2}) = sign(x_{1} - (A \\cdot x_{2} + b))$$\n",
    "So we add the corresponding operations to the computational graph."
   ]
  },
  {
   "cell_type": "code",
   "execution_count": 38,
   "metadata": {},
   "outputs": [],
   "source": [
    "# Add model to graph:\n",
    "# x1 - A*x2 + b\n",
    "my_mult = tf.matmul(x2_data, A)\n",
    "my_add = tf.add(my_mult, b)\n",
    "my_output = tf.subtract(x1_data, my_add)\n"
   ]
  },
  {
   "cell_type": "code",
   "execution_count": 39,
   "metadata": {},
   "outputs": [
    {
     "name": "stdout",
     "output_type": "stream",
     "text": [
      "Step #200 A = [[ 8.74117851]], b = [[-3.57363701]]\nStep #400 A = [[ 10.26586246]], b = [[-4.67667913]]\n"
     ]
    },
    {
     "name": "stdout",
     "output_type": "stream",
     "text": [
      "Step #600 A = [[ 11.17514992]], b = [[-5.49885178]]\nStep #800 A = [[ 11.92781734]], b = [[-5.92623281]]\n"
     ]
    },
    {
     "name": "stdout",
     "output_type": "stream",
     "text": [
      "Step #1000 A = [[ 12.39235878]], b = [[-6.45340538]]\n"
     ]
    },
    {
     "data": {
      "image/png": "[encoded data removed]",
      "text/plain": [
       "<matplotlib.figure.Figure at 0x11de666a0>"
      ]
     },
     "metadata": {},
     "output_type": "display_data"
    }
   ],
   "source": [
    "# Add classification loss (cross entropy)\n",
    "xentropy = tf.nn.sigmoid_cross_entropy_with_logits(logits=my_output, labels=y_target)\n",
    "\n",
    "# Create Optimizer\n",
    "my_opt = tf.train.GradientDescentOptimizer(learning_rate)\n",
    "train_step = my_opt.minimize(xentropy)\n",
    "\n",
    "# Initialize variables\n",
    "init = tf.global_variables_initializer()\n",
    "\n",
    "with tf.Session() as sess:\n",
    "    sess.run(init)\n",
    "\n",
    "    # Run Loop\n",
    "    for i in range(1000):\n",
    "        rand_index = np.random.choice(len(iris_2d), size=batch_size)\n",
    "        # rand_x = np.transpose([iris_2d[rand_index]])\n",
    "        rand_x = iris_2d[rand_index]\n",
    "        rand_x1 = np.array([[x[0]] for x in rand_x])\n",
    "        rand_x2 = np.array([[x[1]] for x in rand_x])\n",
    "        #rand_y = np.transpose([binary_target[rand_index]])\n",
    "        rand_y = np.array([[y] for y in binary_target[rand_index]])\n",
    "        sess.run(train_step, feed_dict={x1_data: rand_x1, x2_data: rand_x2, y_target: rand_y})\n",
    "        if (i + 1) % 200 == 0:\n",
    "            print('Step #' + str(i + 1) + ' A = ' + str(sess.run(A)) + ', b = ' + str(sess.run(b)))\n",
    "\n",
    "    # Pull out slope/intercept\n",
    "    [[slope]] = sess.run(A)\n",
    "    [[intercept]] = sess.run(b)\n",
    "\n",
    "    # Create fitted line\n",
    "    x = np.linspace(0, 3, num=50)\n",
    "    ablineValues = []\n",
    "    for i in x:\n",
    "        ablineValues.append(slope * i + intercept)\n",
    "\n",
    "# Plot the fitted line over the data\n",
    "setosa_x = [a[1] for i, a in enumerate(iris_2d) if binary_target[i] == 1]\n",
    "setosa_y = [a[0] for i, a in enumerate(iris_2d) if binary_target[i] == 1]\n",
    "non_setosa_x = [a[1] for i, a in enumerate(iris_2d) if binary_target[i] == 0]\n",
    "non_setosa_y = [a[0] for i, a in enumerate(iris_2d) if binary_target[i] == 0]\n",
    "plt.plot(setosa_x, setosa_y, 'rx', ms=10, mew=2, label='setosa')\n",
    "plt.plot(non_setosa_x, non_setosa_y, 'ro', label='Non-setosa')\n",
    "plt.plot(x, ablineValues, 'b-')\n",
    "plt.xlim([0.0, 2.7])\n",
    "plt.ylim([0.0, 7.1])\n",
    "plt.suptitle('Linear Separator For I.setosa', fontsize=20)\n",
    "plt.xlabel('Petal Length')\n",
    "plt.ylabel('Petal Width')\n",
    "plt.legend(loc='lower right')\n",
    "plt.show()\n"
   ]
  }
 ],
 "metadata": {
  "kernelspec": {
   "display_name": "Python 2",
   "language": "python",
   "name": "python2"
  },
  "language_info": {
   "codemirror_mode": {
    "name": "ipython",
    "version": 2
   },
   "file_extension": ".py",
   "mimetype": "text/x-python",
   "name": "python",
   "nbconvert_exporter": "python",
   "pygments_lexer": "ipython2",
   "version": "2.7.6"
  }
 },
 "nbformat": 4,
 "nbformat_minor": 0
}
