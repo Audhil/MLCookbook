{
 "cells": [
  {
   "cell_type": "code",
   "execution_count": 1,
   "metadata": {
    "collapsed": true
   },
   "outputs": [],
   "source": [
    "import tensorflow as tf\n",
    "import numpy as np\n",
    "import os"
   ]
  },
  {
   "cell_type": "code",
   "execution_count": 2,
   "metadata": {},
   "outputs": [
    {
     "name": "stdout",
     "output_type": "stream",
     "text": [
      "2.0\n4.0\n6.0\n8.0\n10.0\nall done!\n"
     ]
    }
   ],
   "source": [
    "x = np.array([1., 2., 3., 4., 5.])\n",
    "w = tf.placeholder(tf.float32, name='weight')\n",
    "\n",
    "mul = tf.multiply(2., w)\n",
    "with tf.Session() as sess:\n",
    "    for val in x:\n",
    "        print(sess.run(mul, feed_dict={w: val}))\n",
    "\n",
    "    merged = tf.summary.merge_all(key='summaries')\n",
    "    if not os.path.exists('tensorboard_logs/'):\n",
    "        os.mkdir('tensorboard_logs/')\n",
    "\n",
    "    my_writer = tf.summary.FileWriter('tensorboard_logs/', sess.graph)\n",
    "    print('all done!')\n"
   ]
  },
  {
   "cell_type": "code",
   "execution_count": 3,
   "metadata": {},
   "outputs": [
    {
     "name": "stdout",
     "output_type": "stream",
     "text": [
      "[[ 102.]\n [  66.]\n [  58.]]\n[[ 114.]\n [  78.]\n [  70.]]\n"
     ]
    }
   ],
   "source": [
    "# Create data to feed in\n",
    "my_array = np.array([[1., 3., 5., 7., 9.],\n",
    "                     [-2., 0., 2., 4., 6.],\n",
    "                     [-6., -3., 0., 3., 6.]])\n",
    "# Duplicate the array for having two inputs\n",
    "x_vals = np.array([my_array, my_array + 1])\n",
    "# Declare the placeholder\n",
    "x_data = tf.placeholder(tf.float32, shape=(3, 5))\n",
    "# Declare constants for operations\n",
    "m1 = tf.constant([[1.], [0.], [-1.], [2.], [4.]])\n",
    "m2 = tf.constant([[2.]])\n",
    "a1 = tf.constant([[10.]])\n",
    "\n",
    "\"\"\"We start with matrix multiplication (A[3x5] * m1[5x1]) = prod1[3x1]\"\"\"\n",
    "# 1st Operation Layer = Multiplication\n",
    "prod1 = tf.matmul(x_data, m1)\n",
    "\n",
    "\"\"\"Second operation is multiplication of prod1[3x1] by m2[1x1], which results in prod2[3x1]\"\"\"\n",
    "# 2nd Operation Layer = Multiplication\n",
    "prod2 = tf.matmul(prod1, m2)\n",
    "\n",
    "\"\"\"The third operation is matrix addition of prod2[3x1] to a1[1x1], This makes use of TensorFlow's broadcasting.\"\"\"\n",
    "# 3rd Operation Layer = Addition\n",
    "add1 = tf.add(prod2, a1)\n",
    "\n",
    "with tf.Session() as sess:\n",
    "    for x_val in x_vals:\n",
    "        print(sess.run(add1, feed_dict={x_data: x_val}))\n",
    "\n",
    "    merged = tf.summary.merge_all(key='summaries')\n",
    "\n",
    "    if not os.path.exists('tensorboard_logs/'):\n",
    "        os.makedirs('tensorboard_logs/')\n",
    "\n",
    "    my_writer = tf.summary.FileWriter('tensorboard_logs/', sess.graph)\n"
   ]
  }
 ],
 "metadata": {
  "kernelspec": {
   "display_name": "Python 2",
   "language": "python",
   "name": "python2"
  },
  "language_info": {
   "codemirror_mode": {
    "name": "ipython",
    "version": 2
   },
   "file_extension": ".py",
   "mimetype": "text/x-python",
   "name": "python",
   "nbconvert_exporter": "python",
   "pygments_lexer": "ipython2",
   "version": "2.7.6"
  }
 },
 "nbformat": 4,
 "nbformat_minor": 0
}
