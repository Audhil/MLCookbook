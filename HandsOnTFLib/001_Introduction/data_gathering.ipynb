{
 "cells": [
  {
   "cell_type": "code",
   "execution_count": 7,
   "metadata": {
    "collapsed": true
   },
   "outputs": [],
   "source": [
    "import matplotlib.pyplot as plt\n",
    "import numpy as np\n",
    "import tensorflow as tf\n",
    "from tensorflow.python.framework import ops\n",
    "ops.reset_default_graph()"
   ]
  },
  {
   "cell_type": "code",
   "execution_count": 8,
   "metadata": {},
   "outputs": [
    {
     "name": "stdout",
     "output_type": "stream",
     "text": [
      "iris.data :  150\niris.target :  150\n[ 5.1  3.5  1.4  0.2]\nset(iris.target) :  {0, 1, 2}\niris.data.shape :  (150, 4)\niris.target.shape :  (150,)\n"
     ]
    }
   ],
   "source": [
    "\"\"\"Iris Dataset\"\"\"\n",
    "\n",
    "from sklearn.datasets import load_iris\n",
    "\n",
    "iris = load_iris()\n",
    "print('iris.data : ', len(iris.data))\n",
    "print('iris.target : ', len(iris.target))\n",
    "print(iris.data[0])\n",
    "print('set(iris.target) : ', set(iris.target))\n",
    "print('iris.data.shape : ', iris.data.shape)\n",
    "print('iris.target.shape : ', iris.target.shape)\n"
   ]
  },
  {
   "cell_type": "code",
   "execution_count": null,
   "metadata": {},
   "outputs": [],
   "source": [
    "\"\"\"And lot details @ https://github.com/Audhil/tensorflow_cookbook/blob/master/01_Introduction/07_Working_with_Data_Sources/07_data_gathering.ipynb\"\"\""
   ]
  }
 ],
 "metadata": {
  "kernelspec": {
   "display_name": "Python 2",
   "language": "python",
   "name": "python2"
  },
  "language_info": {
   "codemirror_mode": {
    "name": "ipython",
    "version": 2
   },
   "file_extension": ".py",
   "mimetype": "text/x-python",
   "name": "python",
   "nbconvert_exporter": "python",
   "pygments_lexer": "ipython2",
   "version": "2.7.6"
  }
 },
 "nbformat": 4,
 "nbformat_minor": 0
}
