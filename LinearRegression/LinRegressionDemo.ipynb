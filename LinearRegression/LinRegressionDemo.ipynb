{
 "cells": [
  {
   "cell_type": "code",
   "execution_count": 63,
   "metadata": {
    "collapsed": true
   },
   "outputs": [],
   "source": [
    "import tensorflow as tf\n",
    "from sklearn.datasets import load_boston\n",
    "from sklearn.preprocessing import scale\n",
    "\n",
    "from matplotlib import pyplot as plt\n",
    "\n",
    "# Tut @ https://medium.com/@saxenarohan97/intro-to-tensorflow-solving-a-simple-regression-problem-e87b42fd4845"
   ]
  },
  {
   "cell_type": "code",
   "execution_count": 64,
   "metadata": {},
   "outputs": [
    {
     "name": "stdout",
     "output_type": "stream",
     "text": [
      "val1 :  (300, 13)\nval2 :  (300,)\nval1 :  (100, 13)\nval2 :  (100,)\nval1 :  (106, 13)\nval2 :  (106,)\n"
     ]
    }
   ],
   "source": [
    "\"\"\"Preprocessing phase\"\"\"\n",
    "\n",
    "# Get the data\n",
    "total_features, total_prices = load_boston(True)\n",
    "# total_features -> shape is (506, 13)\n",
    "# total_prices -> shape is (506,)\n",
    "\n",
    "# keep 300 samples for training\n",
    "train_features = scale(total_features[:300])\n",
    "train_prices = total_prices[:300]\n",
    "print('val1 : ', train_features.shape)\n",
    "print('val2 : ', train_prices.shape)\n",
    "\n",
    "# keep 100 samples for testing\n",
    "validation_features = scale(total_features[300:400])\n",
    "validation_prices = total_prices[300:400]\n",
    "\n",
    "print('val1 : ', validation_features.shape)\n",
    "print('val2 : ', validation_prices.shape)\n",
    "\n",
    "# keep remaining for testing\n",
    "test_features = scale(total_features[400:])\n",
    "test_prices = total_prices[400:]\n",
    "\n",
    "print('val1 : ', test_features.shape)\n",
    "print('val2 : ', test_prices.shape)\n"
   ]
  },
  {
   "cell_type": "code",
   "execution_count": 65,
   "metadata": {},
   "outputs": [],
   "source": [
    "def calc(x, y):\n",
    "    \"\"\"calculating prediction & error\"\"\"\n",
    "    prediction = tf.add(b, tf.matmul(x, w))\n",
    "    error = tf.reduce_mean(tf.square(y - prediction))\n",
    "    return prediction, error\n"
   ]
  },
  {
   "cell_type": "code",
   "execution_count": 66,
   "metadata": {},
   "outputs": [
    {
     "name": "stdout",
     "output_type": "stream",
     "text": [
      "at i : 0, cost : 708.545271\nat i : 100, cost : 90.564459\n"
     ]
    },
    {
     "name": "stdout",
     "output_type": "stream",
     "text": [
      "at i : 200, cost : 79.184184\nat i : 300, cost : 78.816515\n"
     ]
    },
    {
     "name": "stdout",
     "output_type": "stream",
     "text": [
      "at i : 400, cost : 78.755471\nat i : 500, cost : 78.736063\n"
     ]
    },
    {
     "name": "stdout",
     "output_type": "stream",
     "text": [
      "at i : 600, cost : 78.729339\nat i : 700, cost : 78.726900\n"
     ]
    },
    {
     "name": "stdout",
     "output_type": "stream",
     "text": [
      "at i : 800, cost : 78.725968\nat i : 900, cost : 78.725593\n"
     ]
    },
    {
     "name": "stdout",
     "output_type": "stream",
     "text": [
      "at i : 1000, cost : 78.725433\nat i : 1100, cost : 78.725362\n"
     ]
    },
    {
     "name": "stdout",
     "output_type": "stream",
     "text": [
      "at i : 1200, cost : 78.725329\nat i : 1300, cost : 78.725314\n"
     ]
    },
    {
     "name": "stdout",
     "output_type": "stream",
     "text": [
      "at i : 1400, cost : 78.725306\nat i : 1500, cost : 78.725302\n"
     ]
    },
    {
     "name": "stdout",
     "output_type": "stream",
     "text": [
      "at i : 1600, cost : 78.725300\nat i : 1700, cost : 78.725299\n"
     ]
    },
    {
     "name": "stdout",
     "output_type": "stream",
     "text": [
      "at i : 1800, cost : 78.725299\nat i : 1900, cost : 78.725299\n"
     ]
    },
    {
     "name": "stdout",
     "output_type": "stream",
     "text": [
      "at i : 2000, cost : 78.725298\nat i : 2100, cost : 78.725298\n"
     ]
    },
    {
     "name": "stdout",
     "output_type": "stream",
     "text": [
      "at i : 2200, cost : 78.725298\nat i : 2300, cost : 78.725298\n"
     ]
    },
    {
     "name": "stdout",
     "output_type": "stream",
     "text": [
      "at i : 2400, cost : 78.725298\nat i : 2500, cost : 78.725298\n"
     ]
    },
    {
     "name": "stdout",
     "output_type": "stream",
     "text": [
      "at i : 2600, cost : 78.725298\nat i : 2700, cost : 78.725298\n"
     ]
    },
    {
     "name": "stdout",
     "output_type": "stream",
     "text": [
      "at i : 2800, cost : 78.725298\nat i : 2900, cost : 78.725298\n"
     ]
    },
    {
     "name": "stdout",
     "output_type": "stream",
     "text": [
      "at i : 3000, cost : 78.725298\nat i : 3100, cost : 78.725298\n"
     ]
    },
    {
     "name": "stdout",
     "output_type": "stream",
     "text": [
      "at i : 3200, cost : 78.725298\nat i : 3300, cost : 78.725298\n"
     ]
    },
    {
     "name": "stdout",
     "output_type": "stream",
     "text": [
      "at i : 3400, cost : 78.725298\nat i : 3500, cost : 78.725298\n"
     ]
    },
    {
     "name": "stdout",
     "output_type": "stream",
     "text": [
      "at i : 3600, cost : 78.725298\nat i : 3700, cost : 78.725298\n"
     ]
    },
    {
     "name": "stdout",
     "output_type": "stream",
     "text": [
      "at i : 3800, cost : 78.725298\nat i : 3900, cost : 78.725298\n"
     ]
    },
    {
     "name": "stdout",
     "output_type": "stream",
     "text": [
      "at i : 4000, cost : 78.725298\nat i : 4100, cost : 78.725298\n"
     ]
    },
    {
     "name": "stdout",
     "output_type": "stream",
     "text": [
      "at i : 4200, cost : 78.725298\nat i : 4300, cost : 78.725298\n"
     ]
    },
    {
     "name": "stdout",
     "output_type": "stream",
     "text": [
      "at i : 4400, cost : 78.725298\nat i : 4500, cost : 78.725298\n"
     ]
    },
    {
     "name": "stdout",
     "output_type": "stream",
     "text": [
      "at i : 4600, cost : 78.725298\nat i : 4700, cost : 78.725298\n"
     ]
    },
    {
     "name": "stdout",
     "output_type": "stream",
     "text": [
      "at i : 4800, cost : 78.725298\nat i : 4900, cost : 78.725298\n"
     ]
    },
    {
     "name": "stdout",
     "output_type": "stream",
     "text": [
      "at i : 5000, cost : 78.725298\nat i : 5100, cost : 78.725298\n"
     ]
    },
    {
     "name": "stdout",
     "output_type": "stream",
     "text": [
      "at i : 5200, cost : 78.725298\nat i : 5300, cost : 78.725298\n"
     ]
    },
    {
     "name": "stdout",
     "output_type": "stream",
     "text": [
      "at i : 5400, cost : 78.725298\nat i : 5500, cost : 78.725298\n"
     ]
    },
    {
     "name": "stdout",
     "output_type": "stream",
     "text": [
      "at i : 5600, cost : 78.725298\nat i : 5700, cost : 78.725298\n"
     ]
    },
    {
     "name": "stdout",
     "output_type": "stream",
     "text": [
      "at i : 5800, cost : 78.725298\nat i : 5900, cost : 78.725298\n"
     ]
    },
    {
     "name": "stdout",
     "output_type": "stream",
     "text": [
      "at i : 6000, cost : 78.725298\nat i : 6100, cost : 78.725298\n"
     ]
    },
    {
     "name": "stdout",
     "output_type": "stream",
     "text": [
      "at i : 6200, cost : 78.725298\nat i : 6300, cost : 78.725298\n"
     ]
    },
    {
     "name": "stdout",
     "output_type": "stream",
     "text": [
      "at i : 6400, cost : 78.725298\nat i : 6500, cost : 78.725298\n"
     ]
    },
    {
     "name": "stdout",
     "output_type": "stream",
     "text": [
      "at i : 6600, cost : 78.725298\nat i : 6700, cost : 78.725298\n"
     ]
    },
    {
     "name": "stdout",
     "output_type": "stream",
     "text": [
      "at i : 6800, cost : 78.725298\nat i : 6900, cost : 78.725298\n"
     ]
    },
    {
     "name": "stdout",
     "output_type": "stream",
     "text": [
      "at i : 7000, cost : 78.725298\nat i : 7100, cost : 78.725298\n"
     ]
    },
    {
     "name": "stdout",
     "output_type": "stream",
     "text": [
      "at i : 7200, cost : 78.725298\nat i : 7300, cost : 78.725298\n"
     ]
    },
    {
     "name": "stdout",
     "output_type": "stream",
     "text": [
      "at i : 7400, cost : 78.725298\nat i : 7500, cost : 78.725298\n"
     ]
    },
    {
     "name": "stdout",
     "output_type": "stream",
     "text": [
      "at i : 7600, cost : 78.725298\nat i : 7700, cost : 78.725298\n"
     ]
    },
    {
     "name": "stdout",
     "output_type": "stream",
     "text": [
      "at i : 7800, cost : 78.725298\nat i : 7900, cost : 78.725298\n"
     ]
    },
    {
     "name": "stdout",
     "output_type": "stream",
     "text": [
      "at i : 8000, cost : 78.725298\nat i : 8100, cost : 78.725298\n"
     ]
    },
    {
     "name": "stdout",
     "output_type": "stream",
     "text": [
      "at i : 8200, cost : 78.725298\nat i : 8300, cost : 78.725298\n"
     ]
    },
    {
     "name": "stdout",
     "output_type": "stream",
     "text": [
      "at i : 8400, cost : 78.725298\nat i : 8500, cost : 78.725298\n"
     ]
    },
    {
     "name": "stdout",
     "output_type": "stream",
     "text": [
      "at i : 8600, cost : 78.725298\nat i : 8700, cost : 78.725298\n"
     ]
    },
    {
     "name": "stdout",
     "output_type": "stream",
     "text": [
      "at i : 8800, cost : 78.725298\nat i : 8900, cost : 78.725298\n"
     ]
    },
    {
     "name": "stdout",
     "output_type": "stream",
     "text": [
      "at i : 9000, cost : 78.725298\nat i : 9100, cost : 78.725298\n"
     ]
    },
    {
     "name": "stdout",
     "output_type": "stream",
     "text": [
      "at i : 9200, cost : 78.725298\nat i : 9300, cost : 78.725298\n"
     ]
    },
    {
     "name": "stdout",
     "output_type": "stream",
     "text": [
      "at i : 9400, cost : 78.725298\nat i : 9500, cost : 78.725298\n"
     ]
    },
    {
     "name": "stdout",
     "output_type": "stream",
     "text": [
      "at i : 9600, cost : 78.725298\nat i : 9700, cost : 78.725298\n"
     ]
    },
    {
     "name": "stdout",
     "output_type": "stream",
     "text": [
      "at i : 9800, cost : 78.725298\nat i : 9900, cost : 78.725298\n"
     ]
    },
    {
     "data": {
      "image/png": "[encoded data removed]",
      "text/plain": [
       "<matplotlib.figure.Figure at 0x116277a20>"
      ]
     },
     "metadata": {},
     "output_type": "display_data"
    },
    {
     "name": "stdout",
     "output_type": "stream",
     "text": [
      "Validation error :  104.343677778\nTest error :  123.333573476\n"
     ]
    }
   ],
   "source": [
    "\"\"\"tensors for usages\"\"\"\n",
    "\n",
    "w = tf.Variable(tf.truncated_normal([13, 1], mean=0.0, stddev=1.0, dtype=tf.float64))\n",
    "b = tf.Variable(tf.zeros(1, dtype=tf.float64))\n",
    "\n",
    "y, cost = calc(train_features, train_prices)\n",
    "learning_rate = .01\n",
    "epochs = 10000\n",
    "\n",
    "points = [[], []]\n",
    "\n",
    "init = tf.global_variables_initializer()\n",
    "optimizer = tf.train.GradientDescentOptimizer(learning_rate).minimize(cost)\n",
    "\n",
    "with tf.Session() as sess:\n",
    "    sess.run(init)\n",
    "    for i in list(range(epochs)):\n",
    "        sess.run(optimizer)  # here's the training happening\n",
    "        # for graph plotting\n",
    "        if i % 10 == 0:\n",
    "            points[0].append(i + 1)\n",
    "            points[1].append(sess.run(cost))\n",
    "        if i % 100 == 0:\n",
    "            cent_cost = sess.run(cost)\n",
    "            print('at i : %d, cost : %f' % (i, sess.run(cost)))\n",
    "\n",
    "    plt.plot(points[0], points[1], 'r--')\n",
    "    plt.axis([0, epochs, 50, 600])\n",
    "    plt.show()\n",
    "\n",
    "    validation_cost = calc(validation_features, validation_prices)[1]\n",
    "    print('Validation error : ', sess.run(validation_cost))\n",
    "\n",
    "    test_cost = calc(test_features, test_prices)[1]\n",
    "    print('Test error : ', sess.run(test_cost))\n"
   ]
  },
  {
   "cell_type": "code",
   "execution_count": 67,
   "metadata": {},
   "outputs": [],
   "source": []
  }
 ],
 "metadata": {
  "kernelspec": {
   "display_name": "Python 2",
   "language": "python",
   "name": "python2"
  },
  "language_info": {
   "codemirror_mode": {
    "name": "ipython",
    "version": 2
   },
   "file_extension": ".py",
   "mimetype": "text/x-python",
   "name": "python",
   "nbconvert_exporter": "python",
   "pygments_lexer": "ipython2",
   "version": "2.7.6"
  }
 },
 "nbformat": 4,
 "nbformat_minor": 0
}
