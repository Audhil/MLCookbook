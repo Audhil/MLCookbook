{
 "cells": [
  {
   "cell_type": "code",
   "execution_count": 23,
   "metadata": {
    "collapsed": true
   },
   "outputs": [],
   "source": [
    "\"\"\"This is demo 2\"\"\"\n",
    "\n",
    "# with ref : https://gist.github.com/Orbifold/c6ede989b41e847700f0e0ea2724f066\n",
    "# src code : \n",
    "# https://github.com/aymericdamien/TensorFlow-Examples/blob/master/examples/2_BasicModels/linear_regression.py\n",
    "\n",
    "import tensorflow as tf\n",
    "import numpy as np\n",
    "import matplotlib.pyplot as plt\n",
    "%matplotlib inline"
   ]
  },
  {
   "cell_type": "code",
   "execution_count": 24,
   "metadata": {},
   "outputs": [
    {
     "name": "stdout",
     "output_type": "stream",
     "text": [
      "Epoch : 0050 cost=5.421173573 W= 0.399396 b= -0.334559\n"
     ]
    },
    {
     "name": "stdout",
     "output_type": "stream",
     "text": [
      "Epoch : 0100 cost=4.458222866 W= 0.369833 b= -0.115797\n"
     ]
    },
    {
     "name": "stdout",
     "output_type": "stream",
     "text": [
      "Epoch : 0150 cost=3.828669548 W= 0.345936 b= 0.0610315\n"
     ]
    },
    {
     "name": "stdout",
     "output_type": "stream",
     "text": [
      "Epoch : 0200 cost=3.417024136 W= 0.32662 b= 0.203966\n"
     ]
    },
    {
     "name": "stdout",
     "output_type": "stream",
     "text": [
      "Epoch : 0250 cost=3.147814512 W= 0.311006 b= 0.319502\n"
     ]
    },
    {
     "name": "stdout",
     "output_type": "stream",
     "text": [
      "Epoch : 0300 cost=2.971716404 W= 0.298385 b= 0.412893\n"
     ]
    },
    {
     "name": "stdout",
     "output_type": "stream",
     "text": [
      "Epoch : 0350 cost=2.856494904 W= 0.288183 b= 0.488382\n"
     ]
    },
    {
     "name": "stdout",
     "output_type": "stream",
     "text": [
      "Epoch : 0400 cost=2.781080484 W= 0.279937 b= 0.549401\n"
     ]
    },
    {
     "name": "stdout",
     "output_type": "stream",
     "text": [
      "Epoch : 0450 cost=2.731700897 W= 0.273272 b= 0.598723\n"
     ]
    },
    {
     "name": "stdout",
     "output_type": "stream",
     "text": [
      "Epoch : 0500 cost=2.699350595 W= 0.267884 b= 0.638592\n"
     ]
    },
    {
     "name": "stdout",
     "output_type": "stream",
     "text": [
      "Epoch : 0550 cost=2.678143263 W= 0.263529 b= 0.670819\n"
     ]
    },
    {
     "name": "stdout",
     "output_type": "stream",
     "text": [
      "Epoch : 0600 cost=2.664231062 W= 0.260008 b= 0.696869\n"
     ]
    },
    {
     "name": "stdout",
     "output_type": "stream",
     "text": [
      "Epoch : 0650 cost=2.655095577 W= 0.257163 b= 0.717925\n"
     ]
    },
    {
     "name": "stdout",
     "output_type": "stream",
     "text": [
      "Epoch : 0700 cost=2.649090767 W= 0.254863 b= 0.734946\n"
     ]
    },
    {
     "name": "stdout",
     "output_type": "stream",
     "text": [
      "Epoch : 0750 cost=2.645136833 W= 0.253003 b= 0.748704\n"
     ]
    },
    {
     "name": "stdout",
     "output_type": "stream",
     "text": [
      "Epoch : 0800 cost=2.642529726 W= 0.251501 b= 0.759825\n"
     ]
    },
    {
     "name": "stdout",
     "output_type": "stream",
     "text": [
      "Epoch : 0850 cost=2.640807152 W= 0.250286 b= 0.768814\n"
     ]
    },
    {
     "name": "stdout",
     "output_type": "stream",
     "text": [
      "Epoch : 0900 cost=2.639665842 W= 0.249304 b= 0.776079\n"
     ]
    },
    {
     "name": "stdout",
     "output_type": "stream",
     "text": [
      "Epoch : 0950 cost=2.638907433 W= 0.24851 b= 0.781953\n"
     ]
    },
    {
     "name": "stdout",
     "output_type": "stream",
     "text": [
      "Epoch : 1000 cost=2.638401747 W= 0.247869 b= 0.7867\noptimization finished!\ntraining_cost=2.638401747 W= 0.247869 b= 0.7867\n"
     ]
    },
    {
     "data": {
      "image/png": "[encoded data removed]",
      "text/plain": [
       "<matplotlib.figure.Figure at 0x118b18da0>"
      ]
     },
     "metadata": {},
     "output_type": "display_data"
    },
    {
     "name": "stdout",
     "output_type": "stream",
     "text": [
      "Testing...\nTesting cost :  1.29359\nAbsolute mean square diff :  "
     ]
    },
    {
     "name": "stdout",
     "output_type": "stream",
     "text": [
      "1.34482\n"
     ]
    },
    {
     "data": {
      "image/png": "[encoded data removed]",
      "text/plain": [
       "<matplotlib.figure.Figure at 0x118cbdba8>"
      ]
     },
     "metadata": {},
     "output_type": "display_data"
    }
   ],
   "source": [
    "X = [3.3, 4.4, 5.5, 6.71, 6.93, 4.168, 9.779, 6.182, 7.59, 2.167, 7.042, 10.791, 5.313, 7.997, 5.654, 9.27, 3.1]\n",
    "Y = [1.7, 2.76, 2.09, 3.19, 1.694, 1.573, 3.366, 2.596, 2.53, 1.221, 2.827, 3.465, 1.65, 2.904, 2.42, 2.94, 1.3]\n",
    "\n",
    "epochs = 1000\n",
    "learning_rate = .001\n",
    "display_step = 50\n",
    "\n",
    "train_X = np.array(X)\n",
    "train_Y = np.array(Y)\n",
    "\n",
    "# tf Graph inputs\n",
    "X = tf.placeholder(tf.float32)\n",
    "Y = tf.placeholder(tf.float32)\n",
    "\n",
    "# model weights\n",
    "W = tf.Variable(np.random.randn(), name='weight')\n",
    "b = tf.Variable(np.random.randn(), name='bias')\n",
    "\n",
    "prediction = tf.add(tf.multiply(W, X), b)  # mx + b\n",
    "cost = tf.reduce_mean(tf.reduce_sum(tf.square(prediction - Y)))  # SSE\n",
    "\n",
    "optimizer = tf.train.GradientDescentOptimizer(learning_rate).minimize(cost)  # gradient descent\n",
    "\n",
    "init = tf.global_variables_initializer()\n",
    "\n",
    "with tf.Session() as sess:\n",
    "    sess.run(init)\n",
    "    for epoch in range(epochs):\n",
    "        for x, y in zip(train_X, train_Y):\n",
    "            sess.run(optimizer, feed_dict={X: x, Y: y})  # training happens here\n",
    "\n",
    "        if (epoch + 1) % display_step == 0:\n",
    "            c = sess.run(cost, feed_dict={X: train_X, Y: train_Y})\n",
    "            print('Epoch : %04d' % (epoch + 1), 'cost={:.9f}'.format(c), 'W=', sess.run(W), 'b=', sess.run(b))\n",
    "\n",
    "    print('optimization finished!')\n",
    "    training_cost = sess.run(cost, feed_dict={X: train_X, Y: train_Y})\n",
    "    print('training_cost={:.9f}'.format(training_cost), 'W=', sess.run(W), 'b=', sess.run(b))\n",
    "\n",
    "    # Graphic display\n",
    "    plt.plot(train_X, train_Y, 'ro', label='Original data')\n",
    "    plt.plot(train_X, sess.run(W) * train_X + sess.run(b), label='Fitted line')\n",
    "    plt.legend()\n",
    "    plt.show()\n",
    "\n",
    "    # # testing\n",
    "    # # when,\n",
    "    # X = [8.324]\n",
    "    # Y = tf.add(tf.multiply(W, X), b)  # mx + b\n",
    "    # print('Y is : ', sess.run(Y))   # Y is :  [ 2.84843016]\n",
    "    # it's working fine\n",
    "\n",
    "    # Testing example, as requested (Issue #2)\n",
    "    print('Testing...')\n",
    "    test_X = np.array([6.83, 4.668, 8.9, 7.91, 5.7, 8.7, 3.1, 2.1])\n",
    "    test_Y = np.array([1.84, 2.273, 3.2, 2.831, 2.92, 3.24, 1.35, 1.03])\n",
    "    testing_cost = sess.run(cost, feed_dict={X: test_X, Y: test_Y})\n",
    "    print('Testing cost : ', testing_cost)\n",
    "    print('Absolute mean square diff : ', abs(training_cost - testing_cost))\n",
    "    plt.plot(test_X, test_Y, 'bo', label='Testing data')\n",
    "    plt.plot(train_X, sess.run(W) * train_X + sess.run(b), label='Fitted line')\n",
    "    plt.legend()\n",
    "    plt.show()\n"
   ]
  }
 ],
 "metadata": {
  "kernelspec": {
   "display_name": "Python 2",
   "language": "python",
   "name": "python2"
  },
  "language_info": {
   "codemirror_mode": {
    "name": "ipython",
    "version": 2
   },
   "file_extension": ".py",
   "mimetype": "text/x-python",
   "name": "python",
   "nbconvert_exporter": "python",
   "pygments_lexer": "ipython2",
   "version": "2.7.6"
  }
 },
 "nbformat": 4,
 "nbformat_minor": 0
}
